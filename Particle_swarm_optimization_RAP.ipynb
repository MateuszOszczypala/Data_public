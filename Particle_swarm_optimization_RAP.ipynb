{
  "nbformat": 4,
  "nbformat_minor": 0,
  "metadata": {
    "colab": {
      "provenance": [],
      "authorship_tag": "ABX9TyMaCOBBG9OYmLIzzIkQkzA+",
      "include_colab_link": true
    },
    "kernelspec": {
      "name": "python3",
      "display_name": "Python 3"
    },
    "language_info": {
      "name": "python"
    }
  },
  "cells": [
    {
      "cell_type": "markdown",
      "metadata": {
        "id": "view-in-github",
        "colab_type": "text"
      },
      "source": [
        "<a href=\"https://colab.research.google.com/github/MateuszOszczypala/Data_public/blob/main/Particle_swarm_optimization_RAP.ipynb\" target=\"_parent\"><img src=\"https://colab.research.google.com/assets/colab-badge.svg\" alt=\"Open In Colab\"/></a>"
      ]
    },
    {
      "cell_type": "code",
      "execution_count": null,
      "metadata": {
        "id": "Ah0A1sXdjPK3"
      },
      "outputs": [],
      "source": [
        "import random\n",
        "import numpy as np\n",
        "import math\n",
        "import matplotlib.pyplot as plt\n",
        "from google.colab import drive\n",
        "from itertools import combinations\n",
        "from scipy.spatial.distance import pdist"
      ]
    },
    {
      "cell_type": "code",
      "source": [
        "# Basic parameters of PSO\n",
        "number_of_iterations = 10000\n",
        "swarm_size = 200\n",
        "lb = 0\n",
        "ub = 255\n",
        "lb2 = -0.5\n",
        "ub2 = 5.5-10e-06\n",
        "inertia_weight = 0.95\n",
        "personal_best_weight = 0.3\n",
        "global_best_weight = 0.5"
      ],
      "metadata": {
        "id": "bvxZ61anjXi7"
      },
      "execution_count": null,
      "outputs": []
    },
    {
      "cell_type": "code",
      "source": [
        "# Basic parameters of system\n",
        "number_of_subsystems = 10\n",
        "working_failure_rate = [0.8147, 0.9058, 0.1270, 0.9134, 0.6324, 0.0975, 0.2785, 0.5469, 0.9575, 0.9649]\n",
        "standby_failure_rate = [0.0943, 0.1049, 0.0147, 0.1057, 0.0732, 0.0113, 0.0322, 0.0633, 0.1108, 0.1117]\n",
        "repair_rate = [2.9412, 2.9143, 1.9708, 2.6006, 1.2838, 1.8435, 2.8315, 2.5844, 2.9190, 2.3115]\n",
        "warm_standby_switching_rate = [5.3571, 13.4913, 14.3399, 11.7874, 2.5774, 12.4313, 8.9223, 11.5548, 6.7119, 12.0605]\n",
        "cold_standby_switching_rate = [2.6785, 6.7457, 7.1700, 5.8937, 1.2887, 6.2157, 4.4611, 5.7774, 3.3559, 6.0302]\n",
        "k = [3, 3, 1, 1, 2, 2, 1, 1, 3, 3]\n",
        "unit_cost = [5.67, 8.36, 8.57, 4.31, 6.43, 6.12, 7.52, 7.97, 8.28, 4.93]\n",
        "unit_weight = [5.22, 6.94, 5.32, 5.68, 10.76, 9.86, 7.22, 11.65, 5.24, 8.07]"
      ],
      "metadata": {
        "id": "Fb4x0K19j_8m"
      },
      "execution_count": null,
      "outputs": []
    },
    {
      "cell_type": "code",
      "source": [
        "# Constraints\n",
        "weight_constraint = 400\n",
        "cost_constraint = 350"
      ],
      "metadata": {
        "id": "hZqe4_-7kA8y"
      },
      "execution_count": null,
      "outputs": []
    },
    {
      "cell_type": "code",
      "source": [
        "def Create_CTMC_model_no_redundancy(n, working_failure_rate, repair_rate): # strategy 0\n",
        "  # Initialize CTMC matrix\n",
        "  CTMC = np.zeros((2, 2))\n",
        "  # State no. 0 is subsystem working state\n",
        "  # State no. 1 is subsystem failure state\n",
        "\n",
        "  # Transition rates\n",
        "  CTMC[0, 1] = n*working_failure_rate # Failure of working component\n",
        "  CTMC[1, 0] = repair_rate # Repair\n",
        "  CTMC[0, 0] = -n*working_failure_rate # diagonal\n",
        "  CTMC[1, 1] = -repair_rate # diagonal\n",
        "  return CTMC"
      ],
      "metadata": {
        "id": "KPVh7zjSkDNO"
      },
      "execution_count": null,
      "outputs": []
    },
    {
      "cell_type": "code",
      "source": [
        "def Create_CTMC_model_hot_standby(n, k, working_failure_rate, repair_rate): # strategy 1\n",
        "  State_space = np.empty((n-k+2, 3), dtype=int)\n",
        "  # States no. from 0 to n-k are subsystem working states\n",
        "  # State no. n-k+1 is subsystem failure state\n",
        "\n",
        "  # Working states with k working components and remaining in hot standby or failed\n",
        "  j = 0\n",
        "  for i in range(n-k+1):\n",
        "    State_space[i, 0] = k # number of working components\n",
        "    State_space[i, 1] = n-k-j # number of hot standby components\n",
        "    State_space[i, 2] = j # number of failed components\n",
        "    j += 1\n",
        "  # Failure states with k-1 operational components and n-k+1 failed components\n",
        "    State_space[n-k+1, 0] = k-1 # number of working components\n",
        "    State_space[n-k+1, 1] = 0 # number of hot standby components\n",
        "    State_space[n-k+1, 2] = n-k+1 # number of failed components\n",
        "\n",
        "  # Initialize CTMC matrix\n",
        "  CTMC = np.zeros((n-k+2, n-k+2))\n",
        "\n",
        "  # Transition rates\n",
        "  for i in range(n-k+2):\n",
        "    for j in range(n-k+2):\n",
        "      if State_space[i, 0] - State_space[j, 0] == 1: # Failure of working component\n",
        "        CTMC[i, j] = State_space[i, 0] * working_failure_rate\n",
        "      elif State_space[i, 2] - State_space[j, 2] == 1: # Repair\n",
        "        CTMC[i, j] = State_space[i, 2] * repair_rate\n",
        "\n",
        "    # Diagonal elements\n",
        "  for i in range(n-k+2):\n",
        "    CTMC[i, i] = -np.sum(CTMC[i, :])\n",
        "\n",
        "  return CTMC"
      ],
      "metadata": {
        "id": "gKT_qOnGkGkc"
      },
      "execution_count": null,
      "outputs": []
    },
    {
      "cell_type": "code",
      "source": [
        "def Create_CTMC_model_warm_standby(n, k, working_failure_rate, standby_failure_rate, repair_rate, switching_rate): # strategy 2\n",
        "  State_space = np.empty((2*n-2*k+3, 3), dtype=int)\n",
        "  # States no. from 0 to n-k are subsystem working states\n",
        "  # States no. form n-k+1 to 2n-2k+2 are subsystem failure states\n",
        "\n",
        "  # Working states with k working components and remaining in warm standby or failed\n",
        "  j = 0\n",
        "  for i in range(n-k+1):\n",
        "    State_space[i, 0] = k # number of working components\n",
        "    State_space[i, 1] = n-k-j # number of warm standby components\n",
        "    State_space[i, 2] = j # number of failed components\n",
        "    j += 1\n",
        "  # Failure states with k-1 operational components and n-k+1 failed components\n",
        "  j = 0\n",
        "  for i in range(n-k+1, 2*n-2*k+3):\n",
        "    State_space[i, 0] = k-1 # number of working components\n",
        "    State_space[i, 1] = n-k+1-j # number of warm standby components\n",
        "    State_space[i, 2] = j # number of failed components\n",
        "    j += 1\n",
        "\n",
        "  # Initialize CTMC matrix\n",
        "  CTMC = np.zeros((2*n-2*k+3, 2*n-2*k+3))\n",
        "\n",
        "  # Transition rates\n",
        "  for i in range(2*n-2*k+3):\n",
        "    for j in range(2*n-2*k+3):\n",
        "      if State_space[i, 0] - State_space[j, 0] == 1 and State_space[j, 2] - State_space[i, 2] == 1:  # Failure of working component\n",
        "        CTMC[i, j] = State_space[i, 0] * working_failure_rate\n",
        "      elif State_space[i, 1] - State_space[j, 1] == 1 and State_space[j, 2] - State_space[i, 2] == 1:  # Failure of warm standby component\n",
        "        if State_space[i, 0] == k - 1:\n",
        "          # CTMC[i, j] = (State_space[i, 1] + State_space[i, 0]) * standby_failure_rate\n",
        "          CTMC[i, j] = 0 # according to the assumption of non-failing components in subsystem failure state\n",
        "        else:\n",
        "          CTMC[i, j] = State_space[i, 1] * standby_failure_rate\n",
        "      elif State_space[i, 1] - State_space[j, 1] == 1 and State_space[j, 0] - State_space[i, 0] == 1:  # Switch\n",
        "        CTMC[i, j] = switching_rate\n",
        "      elif State_space[i, 2] - State_space[j, 2] == 1 and State_space[j, 1] - State_space[i, 1] == 1:  # Repair\n",
        "        CTMC[i, j] = State_space[i, 2] * repair_rate\n",
        "\n",
        "    # Diagonal elements\n",
        "  for i in range(2*n-2*k+3):\n",
        "    CTMC[i, i] = -np.sum(CTMC[i, :])\n",
        "\n",
        "  return CTMC"
      ],
      "metadata": {
        "id": "Su48_gtskJHf"
      },
      "execution_count": null,
      "outputs": []
    },
    {
      "cell_type": "code",
      "source": [
        "def Create_CTMC_model_cold_standby(n, k, working_failure_rate, repair_rate, switching_rate): # strategy 3\n",
        "  State_space = np.empty((2*n-2*k+3, 3), dtype=int)\n",
        "  # States no. from 0 to n-k are subsystem working states\n",
        "  # States no. form n-k+1 to 2n-2k+2 are subsystem failure states\n",
        "\n",
        "  # Working states with k working components and remaining in cold standby or failed\n",
        "  j = 0\n",
        "  for i in range(n-k+1):\n",
        "    State_space[i, 0] = k # number of working components\n",
        "    State_space[i, 1] = n-k-j # number of cold standby components\n",
        "    State_space[i, 2] = j # number of failed components\n",
        "    j += 1\n",
        "  # Failure states with k-1 operational components and n-k+1 failed components\n",
        "  j = 0\n",
        "  for i in range(n-k+1, 2*n-2*k+3):\n",
        "    State_space[i, 0] = k-1 # number of working components\n",
        "    State_space[i, 1] = n-k+1-j # number of cold standby components\n",
        "    State_space[i, 2] = j # number of failed components\n",
        "    j += 1\n",
        "\n",
        "  # Initialize CTMC matrix\n",
        "  CTMC = np.zeros((2*n-2*k+3, 2*n-2*k+3))\n",
        "\n",
        "  # Transition rates\n",
        "  for i in range(2*n-2*k+3):\n",
        "    for j in range(2*n-2*k+3):\n",
        "      if State_space[i, 0] - State_space[j, 0] == 1 and State_space[j, 2] - State_space[i, 2] == 1:  # Failure of working component\n",
        "        CTMC[i, j] = State_space[i, 0] * working_failure_rate\n",
        "      elif State_space[i, 1] - State_space[j, 1] == 1 and State_space[j, 0] - State_space[i, 0] == 1:  # Switch\n",
        "        CTMC[i, j] = switching_rate\n",
        "      elif State_space[i, 2] - State_space[j, 2] == 1 and State_space[j, 1] - State_space[i, 1] == 1:  # Repair\n",
        "        CTMC[i, j] = State_space[i, 2] * repair_rate\n",
        "\n",
        "    # Diagonal elements\n",
        "  for i in range(2*n-2*k+3):\n",
        "    CTMC[i, i] = -np.sum(CTMC[i, :])\n",
        "\n",
        "  return CTMC"
      ],
      "metadata": {
        "id": "gY5QP4ASkK6m"
      },
      "execution_count": null,
      "outputs": []
    },
    {
      "cell_type": "code",
      "source": [
        "def Create_CTMC_model_mixed_strategy_active_warm(n, k, working_failure_rate, standby_failure_rate, repair_rate, switching_rate): # strategy 4\n",
        "  State_space = np.empty((3*n-3*k+3, 3), dtype=int)\n",
        "\n",
        "  j = 0\n",
        "  # Working states with k+1 active components\n",
        "  for i in range(n-k):\n",
        "    State_space[i, 0] = k+1 # number of working components\n",
        "    State_space[i, 1] = n-k-1-j # number of hot standby components\n",
        "    State_space[i, 2] = j # number of failed components\n",
        "    j += 1\n",
        "  j = 0\n",
        "  # Working states with k active components\n",
        "  for i in range(n-k, 2*n-2*k+1):\n",
        "    State_space[i, 0] = k # number of working components\n",
        "    State_space[i, 1] = n-k-j # number of hot standby components\n",
        "    State_space[i, 2] = j # number of failed components\n",
        "    j += 1\n",
        "\n",
        "  j = 0\n",
        "    # Failed states with k-1 active components\n",
        "  for i in range(2*n-2*k+1, 3*n-3*k+3):\n",
        "    State_space[i, 0] = k-1 # number of working components\n",
        "    State_space[i, 1] = n-k+1-j # number of hot standby components\n",
        "    State_space[i, 2] = j # number of failed components\n",
        "    j += 1\n",
        "\n",
        "  # Initialize CTMC matrix\n",
        "  CTMC = np.zeros((3*n-3*k+3, 3*n-3*k+3))\n",
        "\n",
        "  # Transition rates\n",
        "  for i in range(3*n-3*k+3):\n",
        "    for j in range(3*n-3*k+3):\n",
        "      if State_space[i, 0] - State_space[j, 0] == 1 and State_space[j, 2] - State_space[i, 2] == 1:  # Failure of active component\n",
        "        CTMC[i, j] = State_space[i, 0] * working_failure_rate\n",
        "      elif State_space[i, 1] - State_space[j, 1] == 1 and State_space[j, 2] - State_space[i, 2] == 1:  # Failure of warm standby component\n",
        "        if State_space[i, 0] == k - 1:\n",
        "          # CTMC[i, j] = (State_space[i, 1] + State_space[i, 0]) * standby_failure_rate\n",
        "          CTMC[i, j] = 0 # according to the assumption of non-failing components in subsystem failure state\n",
        "        else:\n",
        "          CTMC[i, j] = State_space[i, 1] * standby_failure_rate\n",
        "      elif State_space[i, 1] - State_space[j, 1] == 1 and State_space[j, 0] - State_space[i, 0] == 1:  # Switch\n",
        "        CTMC[i, j] = (min(min(State_space[i, 1], 2), k + 1 - State_space[i, 0])) * switching_rate\n",
        "      elif State_space[i, 2] - State_space[j, 2] == 1 and State_space[j, 1] - State_space[i, 1] == 1:  # Repair\n",
        "        CTMC[i, j] = State_space[i, 2] * repair_rate\n",
        "\n",
        "    # Diagonal elements\n",
        "  for i in range(3*n-3*k+3):\n",
        "    CTMC[i, i] = -np.sum(CTMC[i, :])\n",
        "\n",
        "  return CTMC"
      ],
      "metadata": {
        "id": "5LI0cIzZkMk_"
      },
      "execution_count": null,
      "outputs": []
    },
    {
      "cell_type": "code",
      "source": [
        "def Create_CTMC_model_mixed_strategy_active_cold(n, k, working_failure_rate, repair_rate, switching_rate): # strategy 5\n",
        "  State_space = np.empty((3*n-3*k+3, 3), dtype=int)\n",
        "\n",
        "  j = 0\n",
        "  # Working states with k+1 active components\n",
        "  for i in range(n-k):\n",
        "    State_space[i, 0] = k+1 # number of working components\n",
        "    State_space[i, 1] = n-k-1-j # number of hot standby components\n",
        "    State_space[i, 2] = j # number of failed components\n",
        "    j += 1\n",
        "  j = 0\n",
        "  # Working states with k active components\n",
        "  for i in range(n-k, 2*n-2*k+1):\n",
        "    State_space[i, 0] = k # number of working components\n",
        "    State_space[i, 1] = n-k-j # number of hot standby components\n",
        "    State_space[i, 2] = j # number of failed components\n",
        "    j += 1\n",
        "\n",
        "  j = 0\n",
        "    # Failed states with k-1 active components\n",
        "  for i in range(2*n-2*k+1, 3*n-3*k+3):\n",
        "    State_space[i, 0] = k-1 # number of working components\n",
        "    State_space[i, 1] = n-k+1-j # number of hot standby components\n",
        "    State_space[i, 2] = j # number of failed components\n",
        "    j += 1\n",
        "\n",
        "  # Initialize CTMC matrix\n",
        "  CTMC = np.zeros((3*n-3*k+3, 3*n-3*k+3))\n",
        "\n",
        "  # Transition rates\n",
        "  for i in range(3*n-3*k+3):\n",
        "    for j in range(3*n-3*k+3):\n",
        "      if State_space[i, 0] - State_space[j, 0] == 1 and State_space[j, 2] - State_space[i, 2] == 1:  # Failure of active component\n",
        "        CTMC[i, j] = State_space[i, 0] * working_failure_rate\n",
        "      elif State_space[i, 1] - State_space[j, 1] == 1 and State_space[j, 0] - State_space[i, 0] == 1:  # Switch\n",
        "        CTMC[i, j] = (min(min(State_space[i, 1], 2), k + 1 - State_space[i, 0])) * switching_rate\n",
        "      elif State_space[i, 2] - State_space[j, 2] == 1 and State_space[j, 1] - State_space[i, 1] == 1:  # Repair\n",
        "        CTMC[i, j] = State_space[i, 2] * repair_rate\n",
        "\n",
        "    # Diagonal elements\n",
        "  for i in range(3*n-3*k+3):\n",
        "    CTMC[i, i] = -np.sum(CTMC[i, :])\n",
        "\n",
        "  return CTMC"
      ],
      "metadata": {
        "id": "pOsilrYxkOD0"
      },
      "execution_count": null,
      "outputs": []
    },
    {
      "cell_type": "code",
      "source": [
        "def Ergodic_probabilities(CTMC):\n",
        "  CTMC_transposed = CTMC.T\n",
        "  CTMC_transposed[0, :CTMC_transposed.shape[0]] = 1\n",
        "  P = np.zeros((CTMC_transposed.shape[0], 1))\n",
        "  P[0, 0] = 1\n",
        "  Ergodic_prob = np.linalg.inv(CTMC_transposed) @ P\n",
        "  return Ergodic_prob"
      ],
      "metadata": {
        "id": "669YvBBTkPsh"
      },
      "execution_count": null,
      "outputs": []
    },
    {
      "cell_type": "code",
      "source": [
        "def Availability_of_subsystems(n, k, Ergodic_prob, redundancy_strategy):\n",
        "\n",
        "  if redundancy_strategy == 0: # no redundancy\n",
        "    Subsystem_availabilities = np.sum(Ergodic_prob[0:1])\n",
        "\n",
        "  elif redundancy_strategy == 1: # hot standby\n",
        "    Subsystem_availabilities = np.sum(Ergodic_prob[0:n-k+1])\n",
        "\n",
        "  elif redundancy_strategy == 2: # warm standby\n",
        "    Subsystem_availabilities = np.sum(Ergodic_prob[0:n-k+1])\n",
        "\n",
        "  elif redundancy_strategy == 3: # cold standby\n",
        "    Subsystem_availabilities = np.sum(Ergodic_prob[0:n-k+1])\n",
        "\n",
        "  elif redundancy_strategy == 4: # mixed strategy(active + warm)\n",
        "    Subsystem_availabilities = np.sum(Ergodic_prob[0:2*n-2*k+1])\n",
        "\n",
        "  elif redundancy_strategy == 5: # mixed strategy(active + cold)\n",
        "    Subsystem_availabilities = np.sum(Ergodic_prob[0:2*n-2*k+1])\n",
        "\n",
        "  return Subsystem_availabilities"
      ],
      "metadata": {
        "id": "aqdzPUVZkRmz"
      },
      "execution_count": null,
      "outputs": []
    },
    {
      "cell_type": "code",
      "source": [
        "def objective_function(Subsystem_availabilities):\n",
        "  A = Subsystem_availabilities\n",
        "  U = 1 - A\n",
        "  System_availability = (\n",
        "        A[0]*A[1]*A[2]*A[3]+\n",
        "        A[0]*A[1]*A[5]*A[9]*(U[2]+A[2]*U[3])+\n",
        "        A[0]*A[4]*A[8]*A[9]*(U[1]+A[1]*U[2]*U[5]+A[1]*A[2]*U[3]*U[5])+\n",
        "        A[6]*A[7]*A[8]*A[9]*(U[0]+A[0]*U[1]*U[4]+A[0]*A[1]*U[2]*U[4]*U[5]+A[0]*A[1]*A[2]*U[3]*U[4]*U[5])+\n",
        "        A[1]*A[2]*A[3]*A[4]*A[6]*A[7]*U[0]*(U[8]+A[8]*U[9])+\n",
        "        U[0]*A[2]*A[3]*A[5]*A[6]*A[7]*A[8]*U[9]*(U[1]+A[1]*U[4])+\n",
        "        A[0]*U[1]*A[2]*A[3]*A[5]*A[6]*A[7]*A[8]*A[9]*U[9]+\n",
        "        A[0]*U[1]*A[2]*A[3]*A[4]*A[5]*A[8]*U[9]*(U[6]+A[6]*U[7])+\n",
        "        U[0]*A[1]*A[4]*A[5]*A[6]*A[7]*A[8]*U[8]*A[9]*(U[2]+A[2]*U[3])\n",
        "    )\n",
        "  return System_availability"
      ],
      "metadata": {
        "id": "s04GpcdrkTUH"
      },
      "execution_count": null,
      "outputs": []
    },
    {
      "cell_type": "code",
      "source": [
        "def component_allocation(redundancy_strategy, priority, weight_available, unit_weight, cost_available, unit_cost):\n",
        "  a = np.zeros(priority.shape[0])\n",
        "  for i in range(priority.shape[0]):\n",
        "    a[i] = priority[i]/255\n",
        "  standby_components = np.zeros(priority.shape[0], dtype=int)\n",
        "\n",
        "  for i in range(priority.shape[0]):\n",
        "    if redundancy_strategy[i] == 0: # no redundancy\n",
        "      standby_components[i] = 0\n",
        "    else:\n",
        "      standby_components[i] = round(a[i] * min(round(weight_available/unit_weight[i]),round(cost_available/unit_cost[i])))\n",
        "  return standby_components"
      ],
      "metadata": {
        "id": "fJ9c0L--kXOQ"
      },
      "execution_count": null,
      "outputs": []
    },
    {
      "cell_type": "code",
      "source": [
        "# Initialization\n",
        "def initialization(number_of_subsystems, swarm_size, lb, ub, lb2, ub2):\n",
        "  initial_swarm = np.empty((4, number_of_subsystems, swarm_size), dtype=float)\n",
        "  initial_swarm[0, :, :] = np.random.uniform(lb, ub, (1, number_of_subsystems, swarm_size))\n",
        "  initial_swarm[1, :, :] = np.random.randint(lb2, ub2, (1, number_of_subsystems, swarm_size))\n",
        "  initial_swarm[2, :, :] = np.random.randint(lb, ub, (1, number_of_subsystems, swarm_size))\n",
        "  initial_swarm[3, :, :] = np.random.randint(lb2, ub2, (1, number_of_subsystems, swarm_size))\n",
        "\n",
        "  return initial_swarm"
      ],
      "metadata": {
        "id": "tn2qtQE5kfzS"
      },
      "execution_count": null,
      "outputs": []
    },
    {
      "cell_type": "code",
      "source": [
        "# Particle swarm optimization\n",
        "particle_positions = np.empty((2, number_of_subsystems, swarm_size, number_of_iterations), dtype=float)\n",
        "particle_velocities = np.empty((2, number_of_subsystems, swarm_size, number_of_iterations), dtype=float)\n",
        "objective_function_value = np.full((swarm_size, number_of_iterations), np.nan)\n",
        "n = np.full((number_of_subsystems, swarm_size, number_of_iterations), np.nan)\n",
        "redundancy_strategy = np.full((number_of_subsystems, swarm_size, number_of_iterations), np.nan)\n",
        "personal_best_availability = np.full((swarm_size, number_of_iterations), np.nan)\n",
        "personal_best_position = np.full((2, number_of_subsystems, swarm_size, number_of_iterations), np.nan)\n",
        "global_best_availability = np.full((number_of_iterations), np.nan)\n",
        "global_best_position = np.full((2, number_of_subsystems, number_of_iterations), np.nan)\n",
        "\n",
        "# Initialization\n",
        "initial_swarm = initialization(number_of_subsystems, swarm_size, lb, ub, lb2, ub2)\n",
        "particle_positions[:,:,:,0] = initial_swarm[0:2,:,:]\n",
        "particle_velocities[:,:,:,0] = initial_swarm[2:4,:,:]\n",
        "\n",
        "available_weight = 0\n",
        "for i in range(number_of_subsystems):\n",
        "  available_weight += k[i]*unit_weight[i]\n",
        "\n",
        "available_cost = 0\n",
        "for i in range(number_of_subsystems):\n",
        "  available_cost += k[i]*unit_cost[i]\n",
        "\n",
        "for num_it in range(number_of_iterations):\n",
        "  for num_particle in range(swarm_size):\n",
        "\n",
        "        # identify the redundancy strategy\n",
        "    for i in range(number_of_subsystems):\n",
        "      redundancy_strategy[i, num_particle, num_it] = round(particle_positions[1, i, num_particle, num_it])\n",
        "\n",
        "       # allocate standby components to subsystems\n",
        "    standby_components = component_allocation(redundancy_strategy[:, num_particle, num_it], particle_positions[0, :, num_particle, num_it], available_weight, unit_weight, available_cost, unit_cost)\n",
        "    n_components = np.zeros(number_of_subsystems, dtype=int)\n",
        "    for i in range(number_of_subsystems):\n",
        "      n[i, num_particle, num_it] = k[i] + int(standby_components[i])\n",
        "      n_components[i] = k[i] + int(standby_components[i])\n",
        "\n",
        "    # calculate subsystem availabilities\n",
        "    Subsystem_availabilities = np.full((number_of_subsystems), np.nan)\n",
        "\n",
        "    for num_subsystem in range(number_of_subsystems):\n",
        "      if redundancy_strategy[num_subsystem, num_particle, num_it] == 0:\n",
        "        CTMC = Create_CTMC_model_no_redundancy(n_components[num_subsystem], working_failure_rate[num_subsystem], repair_rate[num_subsystem])\n",
        "\n",
        "      elif redundancy_strategy[num_subsystem, num_particle, num_it] == 1:\n",
        "        CTMC = Create_CTMC_model_hot_standby(n_components[num_subsystem], k[num_subsystem], working_failure_rate[num_subsystem], repair_rate[num_subsystem])\n",
        "\n",
        "      elif redundancy_strategy[num_subsystem, num_particle, num_it] == 2:\n",
        "        CTMC = Create_CTMC_model_warm_standby(n_components[num_subsystem], k[num_subsystem], working_failure_rate[num_subsystem], standby_failure_rate[num_subsystem], repair_rate[num_subsystem], warm_standby_switching_rate[num_subsystem])\n",
        "\n",
        "      elif redundancy_strategy[num_subsystem, num_particle, num_it] == 3:\n",
        "        CTMC = Create_CTMC_model_cold_standby(n_components[num_subsystem], k[num_subsystem], working_failure_rate[num_subsystem], repair_rate[num_subsystem], cold_standby_switching_rate[num_subsystem])\n",
        "\n",
        "      elif redundancy_strategy[num_subsystem, num_particle, num_it] == 4:\n",
        "        CTMC = Create_CTMC_model_mixed_strategy_active_warm(n_components[num_subsystem], k[num_subsystem], working_failure_rate[num_subsystem], standby_failure_rate[num_subsystem], repair_rate[num_subsystem], warm_standby_switching_rate[num_subsystem])\n",
        "\n",
        "      elif redundancy_strategy[num_subsystem, num_particle, num_it] == 5:\n",
        "        CTMC = Create_CTMC_model_mixed_strategy_active_cold(n_components[num_subsystem], k[num_subsystem], working_failure_rate[num_subsystem], repair_rate[num_subsystem], cold_standby_switching_rate[num_subsystem])\n",
        "\n",
        "      Ergodic_prob = Ergodic_probabilities(CTMC)\n",
        "      Subsystem_availabilities[num_subsystem] = Availability_of_subsystems(n_components[num_subsystem], k[num_subsystem], Ergodic_prob, redundancy_strategy[num_subsystem, num_particle, num_it])\n",
        "\n",
        "      del CTMC, Ergodic_prob\n",
        "    # objective value (system availability) calculation\n",
        "    if np.sum(n[:, num_particle, num_it]*unit_cost) > cost_constraint or np.sum(n[:, num_particle, num_it]*unit_weight) > weight_constraint:\n",
        "      num_components = np.full((number_of_subsystems), np.nan)\n",
        "      for i in range(number_of_subsystems):\n",
        "        num_components[i] = n[i, num_particle, num_it]\n",
        "        system_cost = 0\n",
        "      for i in range(number_of_subsystems):\n",
        "        system_cost = system_cost + num_components[i]*unit_cost[i]\n",
        "        system_weight = 0\n",
        "      for i in range(number_of_subsystems):\n",
        "        system_weight = system_weight + num_components[i]*unit_weight[i]\n",
        "      if system_cost/cost_constraint > system_weight/weight_constraint:\n",
        "        penalty_function = 0.01**(system_cost/cost_constraint)\n",
        "      else:\n",
        "        penalty_function = 0.01**(system_weight/weight_constraint)\n",
        "      objective_function_value[num_particle, num_it] = objective_function(Subsystem_availabilities)*penalty_function\n",
        "    else:\n",
        "      objective_function_value[num_particle, num_it] = objective_function(Subsystem_availabilities)\n",
        "\n",
        "  for i in range(swarm_size):\n",
        "    personal_best_availability[i, num_it] = np.max(objective_function_value[i, :num_it+1])\n",
        "\n",
        "  global_best_availability[num_it] = np.max(personal_best_availability)\n",
        "\n",
        "  for i in range(swarm_size):\n",
        "    best_index = np.argmax(objective_function_value[i, :num_it+1])\n",
        "    personal_best_position[:, :, i, num_it] = particle_positions[:, :, i, best_index]\n",
        "\n",
        "  best_global_particle, best_global_index = np.unravel_index(np.argmax(objective_function_value[:, :num_it+1]), objective_function_value[:, :num_it+1].shape)\n",
        "  global_best_position[:, :, num_it] = particle_positions[:, :, best_global_particle, best_global_index]\n",
        "\n",
        "  if num_it < number_of_iterations-1:\n",
        "    for j in range(swarm_size):\n",
        "        if np.array_equal(particle_positions[:, :, j, num_it], global_best_position[:, :, num_it]): # elitism\n",
        "          particle_velocities[:, :, j, num_it+1] = particle_velocities[:, :, j, num_it]\n",
        "          particle_positions[:, :, j, num_it+1] = particle_positions[:, :, j, num_it]\n",
        "        else:\n",
        "          for i in range(number_of_subsystems):\n",
        "              rand1, rand2 = np.random.rand(), np.random.rand()\n",
        "              particle_velocities[:, i, j, num_it+1] = (\n",
        "                  inertia_weight * particle_velocities[:, i, j, num_it] +\n",
        "                  personal_best_weight * rand1 * (personal_best_position[:, i, j, num_it] - particle_positions[:, i, j, num_it]) +\n",
        "                  global_best_weight * rand2 * (global_best_position[:, i, num_it] - particle_positions[:, i, j, num_it])\n",
        "                )\n",
        "              particle_positions[:, i, j, num_it+1] = particle_positions[:, i, j, num_it] + particle_velocities[:, i, j, num_it+1]\n",
        "              particle_positions[0, i, j, num_it+1] = max(min(particle_positions[0, i, j, num_it+1], ub), lb)\n",
        "              particle_positions[1, i, j, num_it+1] = max(min(particle_positions[1, i, j, num_it+1], ub2), lb2)"
      ],
      "metadata": {
        "id": "PITpDOSzpRfi"
      },
      "execution_count": null,
      "outputs": []
    },
    {
      "cell_type": "code",
      "source": [
        "print(redundancy_strategy[num_subsystem, num_particle, num_it])"
      ],
      "metadata": {
        "colab": {
          "base_uri": "https://localhost:8080/"
        },
        "id": "l9gbVRP2GBzI",
        "outputId": "7e34c09b-f8b3-4e15-e55f-1d0a5601d611"
      },
      "execution_count": null,
      "outputs": [
        {
          "metadata": {
            "tags": null
          },
          "name": "stdout",
          "output_type": "stream",
          "text": [
            "5.0\n"
          ]
        }
      ]
    },
    {
      "cell_type": "code",
      "source": [
        "print(global_best_position[:,:,0])"
      ],
      "metadata": {
        "colab": {
          "base_uri": "https://localhost:8080/"
        },
        "id": "NVOPkSWNhYJN",
        "outputId": "85585975-72dc-475e-ea43-ce1ebe532c37"
      },
      "execution_count": null,
      "outputs": [
        {
          "metadata": {
            "tags": null
          },
          "name": "stdout",
          "output_type": "stream",
          "text": [
            "[[162.17149192  75.6997309  140.5901635  122.72309587 106.47299069\n",
            "  173.47202161 113.77201823   3.70348611  43.04580034  41.31696448]\n",
            " [  0.           1.           0.           3.           0.\n",
            "    0.           0.           0.           2.           3.        ]]\n"
          ]
        }
      ]
    },
    {
      "cell_type": "code",
      "source": [
        "print(np.max(personal_best_availability))\n",
        "global_best_availability = np.max(personal_best_availability)\n",
        "print(global_best_availability)"
      ],
      "metadata": {
        "colab": {
          "base_uri": "https://localhost:8080/"
        },
        "id": "V03nLaUq6f-W",
        "outputId": "da87dd1c-4a5f-4e8a-8df0-2b61aa45ffab"
      },
      "execution_count": null,
      "outputs": [
        {
          "output_type": "stream",
          "name": "stdout",
          "text": [
            "0.9715494454456547\n",
            "0.9715494454456547\n"
          ]
        }
      ]
    },
    {
      "cell_type": "code",
      "source": [
        "print(personal_best_availability[:,90])"
      ],
      "metadata": {
        "colab": {
          "base_uri": "https://localhost:8080/"
        },
        "id": "rj9MgZd56GpR",
        "outputId": "3af7f3c4-48a5-4461-8a88-ee25d91bbdc2"
      },
      "execution_count": null,
      "outputs": [
        {
          "metadata": {
            "tags": null
          },
          "name": "stdout",
          "output_type": "stream",
          "text": [
            "[0.96620519 0.97036113 0.96471354 0.94999785 0.97112774 0.9686426\n",
            " 0.96938103 0.96960269 0.97051988 0.97072066 0.96656711 0.96969574\n",
            " 0.97016034 0.96734498 0.96001393 0.92535259 0.96029072 0.94932953\n",
            " 0.9710361  0.95140768 0.95011248 0.96102934 0.94925493 0.96896343\n",
            " 0.96676919 0.93557156 0.97154945 0.97133398 0.97016034 0.96918417\n",
            " 0.96665368 0.97100152 0.96955623 0.96634066 0.9530801  0.97154945\n",
            " 0.96538085 0.96333863 0.96895411 0.96339786 0.95085147 0.94791235\n",
            " 0.95902322 0.94432793 0.96674134 0.96697595 0.97069752 0.96592427\n",
            " 0.96729997 0.9459808  0.96654436 0.96289205 0.96438946 0.96973364\n",
            " 0.97100152 0.97120254 0.95019232 0.96964673 0.96833892 0.9686543\n",
            " 0.95863326 0.96505824 0.9530801  0.94527591 0.97011484 0.97036996\n",
            " 0.95212307 0.96265692 0.9515087  0.96714107 0.97154945 0.96796762\n",
            " 0.96659908 0.96713217 0.95072239 0.9503316  0.97028352 0.96278056\n",
            " 0.97154945 0.97154945 0.97090663 0.96315059 0.95184105 0.96895411\n",
            " 0.95574803 0.96978872 0.96652043 0.96223183 0.91956221 0.96672824\n",
            " 0.96915246 0.95264509 0.97154945 0.9710361  0.96300431 0.92047853\n",
            " 0.9668969  0.96525943 0.96668439 0.9639528  0.96711322 0.96413764\n",
            " 0.9665538  0.95076446 0.97072066 0.96536719 0.96767947 0.97036996\n",
            " 0.96857147 0.96361505 0.96305609 0.95227871 0.95291011 0.9562945\n",
            " 0.96994049 0.97038879 0.97051474 0.9646123  0.94494378 0.93199565\n",
            " 0.97154945 0.96876451 0.96918358 0.9519906  0.95615479 0.96109334\n",
            " 0.97100152 0.96758124 0.96758124 0.97082845 0.96242008 0.96586947\n",
            " 0.97069752 0.97056281 0.9638787  0.9473636  0.94725206 0.96636199\n",
            " 0.96381781 0.96846554 0.96000372 0.96649717 0.96915246 0.9654507\n",
            " 0.96959119 0.9657228  0.96518969 0.964439   0.96838723 0.96714216\n",
            " 0.94845473 0.97132853 0.96999876 0.9530801  0.95265721 0.95851301\n",
            " 0.96688147 0.96487522 0.96309801 0.96627371 0.96784116 0.97067688\n",
            " 0.96918358 0.96960269 0.95401003 0.97065539 0.96657422 0.96510106\n",
            " 0.96159949 0.95227871 0.965218   0.9503316  0.96783111 0.96834105\n",
            " 0.96983707 0.96622849 0.96981073 0.96967851 0.96934828 0.97065539\n",
            " 0.97056281 0.97014843 0.97038879 0.96870296 0.97100152 0.96211782\n",
            " 0.97015025 0.97120254 0.97028106 0.97028106 0.96353738 0.96608475\n",
            " 0.9645429  0.97147208 0.94257126 0.96810561 0.96832839 0.97100152\n",
            " 0.97154945 0.9696688 ]\n"
          ]
        }
      ]
    },
    {
      "cell_type": "code",
      "source": [
        "print(global_best_position[:, :, num_it])"
      ],
      "metadata": {
        "colab": {
          "base_uri": "https://localhost:8080/"
        },
        "id": "vkTHDN6y5vYL",
        "outputId": "21523ec4-2906-4b52-b9d9-dc955edd80b4"
      },
      "execution_count": null,
      "outputs": [
        {
          "output_type": "stream",
          "name": "stdout",
          "text": [
            "[[155.89534543  84.23655857 255.          72.92643326 255.\n",
            "  255.         255.           0.          64.18093697  65.83458657]\n",
            " [  0.62557435   3.85103212  -0.5          1.16636463  -0.5\n",
            "   -0.5         -0.5         -0.5          4.16662862   5.48613216]]\n"
          ]
        }
      ]
    },
    {
      "cell_type": "code",
      "source": [
        "print(personal_best_position[:, :, :, num_it])"
      ],
      "metadata": {
        "colab": {
          "base_uri": "https://localhost:8080/"
        },
        "id": "U9BgSC7C589b",
        "outputId": "d604ba11-64c9-4f5c-db87-cb0a1e6805d2"
      },
      "execution_count": null,
      "outputs": [
        {
          "output_type": "stream",
          "name": "stdout",
          "text": [
            "[[[155.89534543 158.45688449 158.93074869 ... 164.67305906 155.86746683\n",
            "   156.00708074]\n",
            "  [ 84.23655857  81.07590342  79.82502482 ...  81.3804921   78.55262876\n",
            "    87.02919954]\n",
            "  [255.         255.         251.48007371 ... 251.81021696 251.58205573\n",
            "   255.        ]\n",
            "  ...\n",
            "  [  0.           0.           0.         ...   0.           0.\n",
            "     0.        ]\n",
            "  [ 64.18093697  63.73571399  62.8661792  ...  65.29663626  58.63931654\n",
            "    69.91256778]\n",
            "  [ 65.83458657  66.58826585  65.46299113 ...  70.25502559  65.49763002\n",
            "    73.60711822]]\n",
            "\n",
            " [[  0.62557435   0.5694826    0.57504424 ...   0.62836351   0.87482385\n",
            "     0.72676925]\n",
            "  [  3.85103212   3.85211484   3.78958405 ...   3.7274637    4.22086144\n",
            "     3.90505192]\n",
            "  [ -0.5         -0.5         -0.5        ...  -0.5         -0.5\n",
            "    -0.5       ]\n",
            "  ...\n",
            "  [ -0.5         -0.5         -0.5        ...  -0.5         -0.5\n",
            "    -0.5       ]\n",
            "  [  4.16662862   4.16788813   4.20544829 ...   4.33347389   4.35632127\n",
            "     3.9649353 ]\n",
            "  [  5.48613216   5.4879739    5.48044945 ...   5.48846581   5.47475084\n",
            "     5.48587468]]]\n"
          ]
        }
      ]
    },
    {
      "cell_type": "code",
      "source": [
        "print(particle_positions[0, 0, 0, :20])"
      ],
      "metadata": {
        "colab": {
          "base_uri": "https://localhost:8080/"
        },
        "id": "JZkdpv2mx0oT",
        "outputId": "60feb896-e0fe-4ef7-fdf4-d99ffd3442f6"
      },
      "execution_count": null,
      "outputs": [
        {
          "output_type": "stream",
          "name": "stdout",
          "text": [
            "[237.15956693 255.         255.         255.         255.\n",
            " 232.89119928 178.83822213 137.79693968 138.58204723 151.21369502\n",
            " 190.59846969 224.52240868 240.62364483 221.63315459 189.71314451\n",
            " 161.62370021 148.49341858 135.50127188 139.08980384 158.8454431 ]\n"
          ]
        }
      ]
    },
    {
      "cell_type": "code",
      "source": [
        "plt.plot(np.max(objective_function_value, axis=0))\n",
        "plt.xlabel('Number of generation')\n",
        "plt.ylabel('System availability')\n",
        "plt.show()"
      ],
      "metadata": {
        "colab": {
          "base_uri": "https://localhost:8080/",
          "height": 449
        },
        "id": "jcZO4sueO-BR",
        "outputId": "75a3174b-7a30-4a0e-bdea-713b8ecbd33d"
      },
      "execution_count": null,
      "outputs": [
        {
          "output_type": "display_data",
          "data": {
            "text/plain": [
              "<Figure size 640x480 with 1 Axes>"
            ],
            "image/png": "[encoded data removed]"
          },
          "metadata": {}
        }
      ]
    },
    {
      "cell_type": "code",
      "source": [
        "print(np.nanmax(objective_function_value))\n",
        "print(np.unravel_index(np.argmax(objective_function_value), objective_function_value.shape))\n",
        "print(redundancy_strategy[:,np.unravel_index(np.argmax(objective_function_value), objective_function_value.shape)[0],np.unravel_index(np.argmax(objective_function_value), objective_function_value.shape)[1]])\n",
        "print(n[:,np.unravel_index(np.argmax(objective_function_value), objective_function_value.shape)[0],np.unravel_index(np.argmax(objective_function_value), objective_function_value.shape)[1]])\n",
        "print(k)"
      ],
      "metadata": {
        "colab": {
          "base_uri": "https://localhost:8080/"
        },
        "id": "z1Zn-4lzPD1u",
        "outputId": "c693e6ec-24ec-4273-bf77-e57d02fcc7bb"
      },
      "execution_count": null,
      "outputs": [
        {
          "output_type": "stream",
          "name": "stdout",
          "text": [
            "0.9715494454456547\n",
            "(0, 203)\n",
            "[1. 4. 0. 1. 0. 0. 0. 0. 4. 5.]\n",
            "[18.  8.  1.  8.  2.  2.  1.  1.  7.  8.]\n",
            "[3, 3, 1, 1, 2, 2, 1, 1, 3, 3]\n"
          ]
        }
      ]
    }
  ]
}