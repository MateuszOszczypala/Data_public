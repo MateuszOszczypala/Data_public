{
  "nbformat": 4,
  "nbformat_minor": 0,
  "metadata": {
    "colab": {
      "provenance": [],
      "authorship_tag": "ABX9TyMl5j/kB32sLnPzoIrtqSNE",
      "include_colab_link": true
    },
    "kernelspec": {
      "name": "python3",
      "display_name": "Python 3"
    },
    "language_info": {
      "name": "python"
    }
  },
  "cells": [
    {
      "cell_type": "markdown",
      "metadata": {
        "id": "view-in-github",
        "colab_type": "text"
      },
      "source": [
        "<a href=\"https://colab.research.google.com/github/MateuszOszczypala/Data_public/blob/main/Gravitational_search_algorithm_RAP.ipynb\" target=\"_parent\"><img src=\"https://colab.research.google.com/assets/colab-badge.svg\" alt=\"Open In Colab\"/></a>"
      ]
    },
    {
      "cell_type": "code",
      "execution_count": null,
      "metadata": {
        "id": "9oQCh4UAjyH4"
      },
      "outputs": [],
      "source": [
        "import random\n",
        "import numpy as np\n",
        "import math\n",
        "import matplotlib.pyplot as plt\n",
        "from google.colab import drive\n",
        "from itertools import combinations\n",
        "from scipy.spatial.distance import pdist"
      ]
    },
    {
      "cell_type": "code",
      "source": [
        "# Basic parameters of GSA\n",
        "number_of_iterations = 10000\n",
        "swarm_size = 200\n",
        "lb = 0\n",
        "ub = 255\n",
        "lb2 = -0.5\n",
        "ub2 = 5.5-10e-06\n",
        "alpha = 0.10\n",
        "G0 = 1000"
      ],
      "metadata": {
        "id": "S3JhWbFFj9Pt"
      },
      "execution_count": null,
      "outputs": []
    },
    {
      "cell_type": "code",
      "source": [
        "# Basic parameters of system\n",
        "number_of_subsystems = 10\n",
        "working_failure_rate = [0.8147, 0.9058, 0.1270, 0.9134, 0.6324, 0.0975, 0.2785, 0.5469, 0.9575, 0.9649]\n",
        "standby_failure_rate = [0.0943, 0.1049, 0.0147, 0.1057, 0.0732, 0.0113, 0.0322, 0.0633, 0.1108, 0.1117]\n",
        "repair_rate = [2.9412, 2.9143, 1.9708, 2.6006, 1.2838, 1.8435, 2.8315, 2.5844, 2.9190, 2.3115]\n",
        "warm_standby_switching_rate = [5.3571, 13.4913, 14.3399, 11.7874, 2.5774, 12.4313, 8.9223, 11.5548, 6.7119, 12.0605]\n",
        "cold_standby_switching_rate = [2.6785, 6.7457, 7.1700, 5.8937, 1.2887, 6.2157, 4.4611, 5.7774, 3.3559, 6.0302]\n",
        "k = [3, 3, 1, 1, 2, 2, 1, 1, 3, 3]\n",
        "unit_cost = [5.67, 8.36, 8.57, 4.31, 6.43, 6.12, 7.52, 7.97, 8.28, 4.93]\n",
        "unit_weight = [5.22, 6.94, 5.32, 5.68, 10.76, 9.86, 7.22, 11.65, 5.24, 8.07]"
      ],
      "metadata": {
        "id": "0kU5ItfDlbDG"
      },
      "execution_count": null,
      "outputs": []
    },
    {
      "cell_type": "code",
      "source": [
        "# Constraints\n",
        "weight_constraint = 400\n",
        "cost_constraint = 350"
      ],
      "metadata": {
        "id": "fXpKoI-wldWl"
      },
      "execution_count": null,
      "outputs": []
    },
    {
      "cell_type": "code",
      "source": [
        "def Create_CTMC_model_no_redundancy(n, working_failure_rate, repair_rate): # strategy 0\n",
        "  # Initialize CTMC matrix\n",
        "  CTMC = np.zeros((2, 2))\n",
        "  # State no. 0 is subsystem working state\n",
        "  # State no. 1 is subsystem failure state\n",
        "\n",
        "  # Transition rates\n",
        "  CTMC[0, 1] = n*working_failure_rate # Failure of working component\n",
        "  CTMC[1, 0] = repair_rate # Repair\n",
        "  CTMC[0, 0] = -n*working_failure_rate # diagonal\n",
        "  CTMC[1, 1] = -repair_rate # diagonal\n",
        "  return CTMC"
      ],
      "metadata": {
        "id": "hkYfTRQvleod"
      },
      "execution_count": null,
      "outputs": []
    },
    {
      "cell_type": "code",
      "source": [
        "def Create_CTMC_model_hot_standby(n, k, working_failure_rate, repair_rate): # strategy 1\n",
        "  State_space = np.empty((n-k+2, 3), dtype=int)\n",
        "  # States no. from 0 to n-k are subsystem working states\n",
        "  # State no. n-k+1 is subsystem failure state\n",
        "\n",
        "  # Working states with k working components and remaining in hot standby or failed\n",
        "  j = 0\n",
        "  for i in range(n-k+1):\n",
        "    State_space[i, 0] = k # number of working components\n",
        "    State_space[i, 1] = n-k-j # number of hot standby components\n",
        "    State_space[i, 2] = j # number of failed components\n",
        "    j += 1\n",
        "  # Failure states with k-1 operational components and n-k+1 failed components\n",
        "    State_space[n-k+1, 0] = k-1 # number of working components\n",
        "    State_space[n-k+1, 1] = 0 # number of hot standby components\n",
        "    State_space[n-k+1, 2] = n-k+1 # number of failed components\n",
        "\n",
        "  # Initialize CTMC matrix\n",
        "  CTMC = np.zeros((n-k+2, n-k+2))\n",
        "\n",
        "  # Transition rates\n",
        "  for i in range(n-k+2):\n",
        "    for j in range(n-k+2):\n",
        "      if State_space[i, 0] - State_space[j, 0] == 1: # Failure of working component\n",
        "        CTMC[i, j] = State_space[i, 0] * working_failure_rate\n",
        "      elif State_space[i, 2] - State_space[j, 2] == 1: # Repair\n",
        "        CTMC[i, j] = State_space[i, 2] * repair_rate\n",
        "\n",
        "    # Diagonal elements\n",
        "  for i in range(n-k+2):\n",
        "    CTMC[i, i] = -np.sum(CTMC[i, :])\n",
        "\n",
        "  return CTMC"
      ],
      "metadata": {
        "id": "RYk_sMxZlgSd"
      },
      "execution_count": null,
      "outputs": []
    },
    {
      "cell_type": "code",
      "source": [
        "def Create_CTMC_model_warm_standby(n, k, working_failure_rate, standby_failure_rate, repair_rate, switching_rate): # strategy 2\n",
        "  State_space = np.empty((2*n-2*k+3, 3), dtype=int)\n",
        "  # States no. from 0 to n-k are subsystem working states\n",
        "  # States no. form n-k+1 to 2n-2k+2 are subsystem failure states\n",
        "\n",
        "  # Working states with k working components and remaining in warm standby or failed\n",
        "  j = 0\n",
        "  for i in range(n-k+1):\n",
        "    State_space[i, 0] = k # number of working components\n",
        "    State_space[i, 1] = n-k-j # number of warm standby components\n",
        "    State_space[i, 2] = j # number of failed components\n",
        "    j += 1\n",
        "  # Failure states with k-1 operational components and n-k+1 failed components\n",
        "  j = 0\n",
        "  for i in range(n-k+1, 2*n-2*k+3):\n",
        "    State_space[i, 0] = k-1 # number of working components\n",
        "    State_space[i, 1] = n-k+1-j # number of warm standby components\n",
        "    State_space[i, 2] = j # number of failed components\n",
        "    j += 1\n",
        "\n",
        "  # Initialize CTMC matrix\n",
        "  CTMC = np.zeros((2*n-2*k+3, 2*n-2*k+3))\n",
        "\n",
        "  # Transition rates\n",
        "  for i in range(2*n-2*k+3):\n",
        "    for j in range(2*n-2*k+3):\n",
        "      if State_space[i, 0] - State_space[j, 0] == 1 and State_space[j, 2] - State_space[i, 2] == 1:  # Failure of working component\n",
        "        CTMC[i, j] = State_space[i, 0] * working_failure_rate\n",
        "      elif State_space[i, 1] - State_space[j, 1] == 1 and State_space[j, 2] - State_space[i, 2] == 1:  # Failure of warm standby component\n",
        "        if State_space[i, 0] == k - 1:\n",
        "          # CTMC[i, j] = (State_space[i, 1] + State_space[i, 0]) * standby_failure_rate\n",
        "          CTMC[i, j] = 0 # according to the assumption of non-failing components in subsystem failure state\n",
        "        else:\n",
        "          CTMC[i, j] = State_space[i, 1] * standby_failure_rate\n",
        "      elif State_space[i, 1] - State_space[j, 1] == 1 and State_space[j, 0] - State_space[i, 0] == 1:  # Switch\n",
        "        CTMC[i, j] = switching_rate\n",
        "      elif State_space[i, 2] - State_space[j, 2] == 1 and State_space[j, 1] - State_space[i, 1] == 1:  # Repair\n",
        "        CTMC[i, j] = State_space[i, 2] * repair_rate\n",
        "\n",
        "    # Diagonal elements\n",
        "  for i in range(2*n-2*k+3):\n",
        "    CTMC[i, i] = -np.sum(CTMC[i, :])\n",
        "\n",
        "  return CTMC"
      ],
      "metadata": {
        "id": "94QRlI0xliik"
      },
      "execution_count": null,
      "outputs": []
    },
    {
      "cell_type": "code",
      "source": [
        "def Create_CTMC_model_cold_standby(n, k, working_failure_rate, repair_rate, switching_rate): # strategy 3\n",
        "  State_space = np.empty((2*n-2*k+3, 3), dtype=int)\n",
        "  # States no. from 0 to n-k are subsystem working states\n",
        "  # States no. form n-k+1 to 2n-2k+2 are subsystem failure states\n",
        "\n",
        "  # Working states with k working components and remaining in cold standby or failed\n",
        "  j = 0\n",
        "  for i in range(n-k+1):\n",
        "    State_space[i, 0] = k # number of working components\n",
        "    State_space[i, 1] = n-k-j # number of cold standby components\n",
        "    State_space[i, 2] = j # number of failed components\n",
        "    j += 1\n",
        "  # Failure states with k-1 operational components and n-k+1 failed components\n",
        "  j = 0\n",
        "  for i in range(n-k+1, 2*n-2*k+3):\n",
        "    State_space[i, 0] = k-1 # number of working components\n",
        "    State_space[i, 1] = n-k+1-j # number of cold standby components\n",
        "    State_space[i, 2] = j # number of failed components\n",
        "    j += 1\n",
        "\n",
        "  # Initialize CTMC matrix\n",
        "  CTMC = np.zeros((2*n-2*k+3, 2*n-2*k+3))\n",
        "\n",
        "  # Transition rates\n",
        "  for i in range(2*n-2*k+3):\n",
        "    for j in range(2*n-2*k+3):\n",
        "      if State_space[i, 0] - State_space[j, 0] == 1 and State_space[j, 2] - State_space[i, 2] == 1:  # Failure of working component\n",
        "        CTMC[i, j] = State_space[i, 0] * working_failure_rate\n",
        "      elif State_space[i, 1] - State_space[j, 1] == 1 and State_space[j, 0] - State_space[i, 0] == 1:  # Switch\n",
        "        CTMC[i, j] = switching_rate\n",
        "      elif State_space[i, 2] - State_space[j, 2] == 1 and State_space[j, 1] - State_space[i, 1] == 1:  # Repair\n",
        "        CTMC[i, j] = State_space[i, 2] * repair_rate\n",
        "\n",
        "    # Diagonal elements\n",
        "  for i in range(2*n-2*k+3):\n",
        "    CTMC[i, i] = -np.sum(CTMC[i, :])\n",
        "\n",
        "  return CTMC"
      ],
      "metadata": {
        "id": "yq28qhdnlmN0"
      },
      "execution_count": null,
      "outputs": []
    },
    {
      "cell_type": "code",
      "source": [
        "def Create_CTMC_model_mixed_strategy_active_warm(n, k, working_failure_rate, standby_failure_rate, repair_rate, switching_rate): # strategy 4\n",
        "  State_space = np.empty((3*n-3*k+3, 3), dtype=int)\n",
        "\n",
        "  j = 0\n",
        "  # Working states with k+1 active components\n",
        "  for i in range(n-k):\n",
        "    State_space[i, 0] = k+1 # number of working components\n",
        "    State_space[i, 1] = n-k-1-j # number of hot standby components\n",
        "    State_space[i, 2] = j # number of failed components\n",
        "    j += 1\n",
        "  j = 0\n",
        "  # Working states with k active components\n",
        "  for i in range(n-k, 2*n-2*k+1):\n",
        "    State_space[i, 0] = k # number of working components\n",
        "    State_space[i, 1] = n-k-j # number of hot standby components\n",
        "    State_space[i, 2] = j # number of failed components\n",
        "    j += 1\n",
        "\n",
        "  j = 0\n",
        "    # Failed states with k-1 active components\n",
        "  for i in range(2*n-2*k+1, 3*n-3*k+3):\n",
        "    State_space[i, 0] = k-1 # number of working components\n",
        "    State_space[i, 1] = n-k+1-j # number of hot standby components\n",
        "    State_space[i, 2] = j # number of failed components\n",
        "    j += 1\n",
        "\n",
        "  # Initialize CTMC matrix\n",
        "  CTMC = np.zeros((3*n-3*k+3, 3*n-3*k+3))\n",
        "\n",
        "  # Transition rates\n",
        "  for i in range(3*n-3*k+3):\n",
        "    for j in range(3*n-3*k+3):\n",
        "      if State_space[i, 0] - State_space[j, 0] == 1 and State_space[j, 2] - State_space[i, 2] == 1:  # Failure of active component\n",
        "        CTMC[i, j] = State_space[i, 0] * working_failure_rate\n",
        "      elif State_space[i, 1] - State_space[j, 1] == 1 and State_space[j, 2] - State_space[i, 2] == 1:  # Failure of warm standby component\n",
        "        if State_space[i, 0] == k - 1:\n",
        "          # CTMC[i, j] = (State_space[i, 1] + State_space[i, 0]) * standby_failure_rate\n",
        "          CTMC[i, j] = 0 # according to the assumption of non-failing components in subsystem failure state\n",
        "        else:\n",
        "          CTMC[i, j] = State_space[i, 1] * standby_failure_rate\n",
        "      elif State_space[i, 1] - State_space[j, 1] == 1 and State_space[j, 0] - State_space[i, 0] == 1:  # Switch\n",
        "        CTMC[i, j] = (min(min(State_space[i, 1], 2), k + 1 - State_space[i, 0])) * switching_rate\n",
        "      elif State_space[i, 2] - State_space[j, 2] == 1 and State_space[j, 1] - State_space[i, 1] == 1:  # Repair\n",
        "        CTMC[i, j] = State_space[i, 2] * repair_rate\n",
        "\n",
        "    # Diagonal elements\n",
        "  for i in range(3*n-3*k+3):\n",
        "    CTMC[i, i] = -np.sum(CTMC[i, :])\n",
        "\n",
        "  return CTMC"
      ],
      "metadata": {
        "id": "mv3AD5SQlo5M"
      },
      "execution_count": null,
      "outputs": []
    },
    {
      "cell_type": "code",
      "source": [
        "def Create_CTMC_model_mixed_strategy_active_cold(n, k, working_failure_rate, repair_rate, switching_rate): # strategy 5\n",
        "  State_space = np.empty((3*n-3*k+3, 3), dtype=int)\n",
        "\n",
        "  j = 0\n",
        "  # Working states with k+1 active components\n",
        "  for i in range(n-k):\n",
        "    State_space[i, 0] = k+1 # number of working components\n",
        "    State_space[i, 1] = n-k-1-j # number of hot standby components\n",
        "    State_space[i, 2] = j # number of failed components\n",
        "    j += 1\n",
        "  j = 0\n",
        "  # Working states with k active components\n",
        "  for i in range(n-k, 2*n-2*k+1):\n",
        "    State_space[i, 0] = k # number of working components\n",
        "    State_space[i, 1] = n-k-j # number of hot standby components\n",
        "    State_space[i, 2] = j # number of failed components\n",
        "    j += 1\n",
        "\n",
        "  j = 0\n",
        "    # Failed states with k-1 active components\n",
        "  for i in range(2*n-2*k+1, 3*n-3*k+3):\n",
        "    State_space[i, 0] = k-1 # number of working components\n",
        "    State_space[i, 1] = n-k+1-j # number of hot standby components\n",
        "    State_space[i, 2] = j # number of failed components\n",
        "    j += 1\n",
        "\n",
        "  # Initialize CTMC matrix\n",
        "  CTMC = np.zeros((3*n-3*k+3, 3*n-3*k+3))\n",
        "\n",
        "  # Transition rates\n",
        "  for i in range(3*n-3*k+3):\n",
        "    for j in range(3*n-3*k+3):\n",
        "      if State_space[i, 0] - State_space[j, 0] == 1 and State_space[j, 2] - State_space[i, 2] == 1:  # Failure of active component\n",
        "        CTMC[i, j] = State_space[i, 0] * working_failure_rate\n",
        "      elif State_space[i, 1] - State_space[j, 1] == 1 and State_space[j, 0] - State_space[i, 0] == 1:  # Switch\n",
        "        CTMC[i, j] = (min(min(State_space[i, 1], 2), k + 1 - State_space[i, 0])) * switching_rate\n",
        "      elif State_space[i, 2] - State_space[j, 2] == 1 and State_space[j, 1] - State_space[i, 1] == 1:  # Repair\n",
        "        CTMC[i, j] = State_space[i, 2] * repair_rate\n",
        "\n",
        "    # Diagonal elements\n",
        "  for i in range(3*n-3*k+3):\n",
        "    CTMC[i, i] = -np.sum(CTMC[i, :])\n",
        "\n",
        "  return CTMC"
      ],
      "metadata": {
        "id": "uPVaj1Uolrq1"
      },
      "execution_count": null,
      "outputs": []
    },
    {
      "cell_type": "code",
      "source": [
        "def Ergodic_probabilities(CTMC):\n",
        "  CTMC_transposed = CTMC.T\n",
        "  CTMC_transposed[0, :CTMC_transposed.shape[0]] = 1\n",
        "  P = np.zeros((CTMC_transposed.shape[0], 1))\n",
        "  P[0, 0] = 1\n",
        "  Ergodic_prob = np.linalg.inv(CTMC_transposed) @ P\n",
        "  return Ergodic_prob"
      ],
      "metadata": {
        "id": "yhPT1JAXlvHk"
      },
      "execution_count": null,
      "outputs": []
    },
    {
      "cell_type": "code",
      "source": [
        "def Availability_of_subsystems(n, k, Ergodic_prob, redundancy_strategy):\n",
        "\n",
        "  if redundancy_strategy == 0: # no redundancy\n",
        "    Subsystem_availabilities = np.sum(Ergodic_prob[0:1])\n",
        "\n",
        "  elif redundancy_strategy == 1: # hot standby\n",
        "    Subsystem_availabilities = np.sum(Ergodic_prob[0:n-k+1])\n",
        "\n",
        "  elif redundancy_strategy == 2: # warm standby\n",
        "    Subsystem_availabilities = np.sum(Ergodic_prob[0:n-k+1])\n",
        "\n",
        "  elif redundancy_strategy == 3: # cold standby\n",
        "    Subsystem_availabilities = np.sum(Ergodic_prob[0:n-k+1])\n",
        "\n",
        "  elif redundancy_strategy == 4: # mixed strategy(active + warm)\n",
        "    Subsystem_availabilities = np.sum(Ergodic_prob[0:2*n-2*k+1])\n",
        "\n",
        "  elif redundancy_strategy == 5: # mixed strategy(active + cold)\n",
        "    Subsystem_availabilities = np.sum(Ergodic_prob[0:2*n-2*k+1])\n",
        "\n",
        "  return Subsystem_availabilities"
      ],
      "metadata": {
        "id": "OO-vr_eclw_8"
      },
      "execution_count": null,
      "outputs": []
    },
    {
      "cell_type": "code",
      "source": [
        "def objective_function(Subsystem_availabilities):\n",
        "  A = Subsystem_availabilities\n",
        "  U = 1 - A\n",
        "  System_availability = (\n",
        "        A[0]*A[1]*A[2]*A[3]+\n",
        "        A[0]*A[1]*A[5]*A[9]*(U[2]+A[2]*U[3])+\n",
        "        A[0]*A[4]*A[8]*A[9]*(U[1]+A[1]*U[2]*U[5]+A[1]*A[2]*U[3]*U[5])+\n",
        "        A[6]*A[7]*A[8]*A[9]*(U[0]+A[0]*U[1]*U[4]+A[0]*A[1]*U[2]*U[4]*U[5]+A[0]*A[1]*A[2]*U[3]*U[4]*U[5])+\n",
        "        A[1]*A[2]*A[3]*A[4]*A[6]*A[7]*U[0]*(U[8]+A[8]*U[9])+\n",
        "        U[0]*A[2]*A[3]*A[5]*A[6]*A[7]*A[8]*U[9]*(U[1]+A[1]*U[4])+\n",
        "        A[0]*U[1]*A[2]*A[3]*A[5]*A[6]*A[7]*A[8]*A[9]*U[9]+\n",
        "        A[0]*U[1]*A[2]*A[3]*A[4]*A[5]*A[8]*U[9]*(U[6]+A[6]*U[7])+\n",
        "        U[0]*A[1]*A[4]*A[5]*A[6]*A[7]*A[8]*U[8]*A[9]*(U[2]+A[2]*U[3])\n",
        "    )\n",
        "  return System_availability"
      ],
      "metadata": {
        "id": "Auow-KaUl2cV"
      },
      "execution_count": null,
      "outputs": []
    },
    {
      "cell_type": "code",
      "source": [
        "def component_allocation(redundancy_strategy, priority, weight_available, unit_weight, cost_available, unit_cost):\n",
        "  a = np.zeros(priority.shape[0])\n",
        "  for i in range(priority.shape[0]):\n",
        "    a[i] = priority[i]/255\n",
        "  standby_components = np.zeros(priority.shape[0], dtype=int)\n",
        "\n",
        "  for i in range(priority.shape[0]):\n",
        "    if redundancy_strategy[i] == 0: # no redundancy\n",
        "      standby_components[i] = 0\n",
        "    else:\n",
        "      standby_components[i] = round(a[i] * min(round(weight_available/unit_weight[i]),round(cost_available/unit_cost[i])))\n",
        "  return standby_components"
      ],
      "metadata": {
        "id": "jIYSwpcml4PN"
      },
      "execution_count": null,
      "outputs": []
    },
    {
      "cell_type": "code",
      "source": [
        "# Initialization\n",
        "def initialization(number_of_subsystems, swarm_size, lb, ub, lb2, ub2):\n",
        "  initial_swarm = np.empty((4, number_of_subsystems, swarm_size), dtype=float)\n",
        "  initial_swarm[0, :, :] = np.random.uniform(lb, ub, (1, number_of_subsystems, swarm_size))\n",
        "  initial_swarm[1, :, :] = np.random.uniform(lb2, ub2, (1, number_of_subsystems, swarm_size))\n",
        "  initial_swarm[2, :, :] = np.random.uniform(lb, ub, (1, number_of_subsystems, swarm_size))\n",
        "  initial_swarm[3, :, :] = np.random.uniform(lb2, ub2, (1, number_of_subsystems, swarm_size))\n",
        "\n",
        "  return initial_swarm"
      ],
      "metadata": {
        "id": "pNCscRM7l688"
      },
      "execution_count": null,
      "outputs": []
    },
    {
      "cell_type": "code",
      "source": [
        "# Gravitational search algorithm\n",
        "agent_positions = np.empty((2, number_of_subsystems, swarm_size, number_of_iterations), dtype=float)\n",
        "agent_velocities = np.empty((2, number_of_subsystems, swarm_size, number_of_iterations), dtype=float)\n",
        "objective_function_value = np.full((swarm_size, number_of_iterations), np.nan)\n",
        "n = np.full((number_of_subsystems, swarm_size, number_of_iterations), np.nan)\n",
        "redundancy_strategy = np.full((number_of_subsystems, swarm_size, number_of_iterations), np.nan)\n",
        "best_availability = np.full((number_of_iterations), np.nan)\n",
        "best_position = np.full((2, number_of_subsystems, number_of_iterations), np.nan)\n",
        "worst_availability = np.full((number_of_iterations), np.nan)\n",
        "G_allocation = np.full((number_of_iterations), np.nan)\n",
        "G_strategy = np.full((number_of_iterations), np.nan)\n",
        "agent_masses = np.full((swarm_size, number_of_iterations), np.nan)\n",
        "agent_normalized_masses = np.full((swarm_size, number_of_iterations), np.nan)\n",
        "gravitational_forces = np.zeros((2, number_of_subsystems, swarm_size, number_of_iterations), dtype=float)\n",
        "\n",
        "# Initialization\n",
        "initial_swarm = initialization(number_of_subsystems, swarm_size, lb, ub, lb2, ub2)\n",
        "agent_positions[:,:,:,0] = initial_swarm[0:2,:,:]\n",
        "agent_velocities[:,:,:,0] = initial_swarm[2:4,:,:]\n",
        "\n",
        "available_weight = 0\n",
        "for i in range(number_of_subsystems):\n",
        "  available_weight += k[i]*unit_weight[i]\n",
        "\n",
        "available_cost = 0\n",
        "for i in range(number_of_subsystems):\n",
        "  available_cost += k[i]*unit_cost[i]\n",
        "\n",
        "for num_it in range(number_of_iterations):\n",
        "  for num_agent in range(swarm_size):\n",
        "\n",
        "        # identify the redundancy strategy\n",
        "    for i in range(number_of_subsystems):\n",
        "      redundancy_strategy[i, num_agent, num_it] = round(agent_positions[1, i, num_agent, num_it])\n",
        "\n",
        "       # allocate standby components to subsystems\n",
        "    standby_components = component_allocation(redundancy_strategy[:, num_agent, num_it], agent_positions[0, :, num_agent, num_it], available_weight, unit_weight, available_cost, unit_cost)\n",
        "    n_components = np.zeros(number_of_subsystems, dtype=int)\n",
        "    for i in range(number_of_subsystems):\n",
        "      n[i, num_agent, num_it] = k[i] + int(standby_components[i])\n",
        "      n_components[i] = k[i] + int(standby_components[i])\n",
        "\n",
        "    # calculate subsystem availabilities\n",
        "    Subsystem_availabilities = np.full((number_of_subsystems), np.nan)\n",
        "\n",
        "    for num_subsystem in range(number_of_subsystems):\n",
        "      if redundancy_strategy[num_subsystem, num_agent, num_it] == 0:\n",
        "        CTMC = Create_CTMC_model_no_redundancy(n_components[num_subsystem], working_failure_rate[num_subsystem], repair_rate[num_subsystem])\n",
        "\n",
        "      elif redundancy_strategy[num_subsystem, num_agent, num_it] == 1:\n",
        "        CTMC = Create_CTMC_model_hot_standby(n_components[num_subsystem], k[num_subsystem], working_failure_rate[num_subsystem], repair_rate[num_subsystem])\n",
        "\n",
        "      elif redundancy_strategy[num_subsystem, num_agent, num_it] == 2:\n",
        "        CTMC = Create_CTMC_model_warm_standby(n_components[num_subsystem], k[num_subsystem], working_failure_rate[num_subsystem], standby_failure_rate[num_subsystem], repair_rate[num_subsystem], warm_standby_switching_rate[num_subsystem])\n",
        "\n",
        "      elif redundancy_strategy[num_subsystem, num_agent, num_it] == 3:\n",
        "        CTMC = Create_CTMC_model_cold_standby(n_components[num_subsystem], k[num_subsystem], working_failure_rate[num_subsystem], repair_rate[num_subsystem], cold_standby_switching_rate[num_subsystem])\n",
        "\n",
        "      elif redundancy_strategy[num_subsystem, num_agent, num_it] == 4:\n",
        "        CTMC = Create_CTMC_model_mixed_strategy_active_warm(n_components[num_subsystem], k[num_subsystem], working_failure_rate[num_subsystem], standby_failure_rate[num_subsystem], repair_rate[num_subsystem], warm_standby_switching_rate[num_subsystem])\n",
        "\n",
        "      elif redundancy_strategy[num_subsystem, num_agent, num_it] == 5:\n",
        "        CTMC = Create_CTMC_model_mixed_strategy_active_cold(n_components[num_subsystem], k[num_subsystem], working_failure_rate[num_subsystem], repair_rate[num_subsystem], cold_standby_switching_rate[num_subsystem])\n",
        "\n",
        "      Ergodic_prob = Ergodic_probabilities(CTMC)\n",
        "      Subsystem_availabilities[num_subsystem] = Availability_of_subsystems(n_components[num_subsystem], k[num_subsystem], Ergodic_prob, redundancy_strategy[num_subsystem, num_agent, num_it])\n",
        "\n",
        "      del CTMC, Ergodic_prob\n",
        "    # objective value (system availability) calculation\n",
        "    if np.sum(n[:, num_agent, num_it]*unit_cost) > cost_constraint or np.sum(n[:, num_agent, num_it]*unit_weight) > weight_constraint:\n",
        "      num_components = np.full((number_of_subsystems), np.nan)\n",
        "      for i in range(number_of_subsystems):\n",
        "        num_components[i] = n[i, num_agent, num_it]\n",
        "        system_cost = 0\n",
        "      for i in range(number_of_subsystems):\n",
        "        system_cost = system_cost + num_components[i]*unit_cost[i]\n",
        "        system_weight = 0\n",
        "      for i in range(number_of_subsystems):\n",
        "        system_weight = system_weight + num_components[i]*unit_weight[i]\n",
        "      if system_cost/cost_constraint > system_weight/weight_constraint:\n",
        "        penalty_function = 0.01**(system_cost/cost_constraint)\n",
        "      else:\n",
        "        penalty_function = 0.01**(system_weight/weight_constraint)\n",
        "      objective_function_value[num_agent, num_it] = objective_function(Subsystem_availabilities)*penalty_function\n",
        "    else:\n",
        "      objective_function_value[num_agent, num_it] = objective_function(Subsystem_availabilities)\n",
        "\n",
        "  best_availability[num_it] = np.max(objective_function_value[:, :num_it+1])\n",
        "  worst_availability[num_it] = np.min(objective_function_value[:, :num_it+1])\n",
        "\n",
        "  best_agent, best_index = np.unravel_index(np.argmax(objective_function_value[:, :num_it+1]), objective_function_value[:, :num_it+1].shape)\n",
        "  best_position[:, :, num_it] = agent_positions[:, :, best_agent, best_index]\n",
        "\n",
        "  # Update the gravitational constant for component allocation\n",
        "  G_allocation[num_it] = G0*((1/(num_it+1))**alpha)\n",
        "  # Update the gravitational constant for redundancy strategies\n",
        "  G_strategy[num_it] = (ub2/ub)*G0*((1/(num_it+1))**alpha)\n",
        "\n",
        "  # Calculate masses of agents\n",
        "  for i in range(swarm_size):\n",
        "    if best_availability[num_it] > worst_availability[num_it]:\n",
        "      agent_masses[i, num_it] = (objective_function_value[i, num_it]-worst_availability[num_it])/(best_availability[num_it]-worst_availability[num_it]) + 1e-08\n",
        "    else:\n",
        "      agent_masses[i, num_it] = 1\n",
        "\n",
        "  # Normalize masses\n",
        "  for i in range(swarm_size):\n",
        "    agent_normalized_masses[i, num_it] = agent_masses[i, num_it]/np.sum(agent_masses[:, num_it])\n",
        "\n",
        "  # Update gravitational forces\n",
        "  for i in range(swarm_size):\n",
        "    for j in range(swarm_size):\n",
        "      if i != j:\n",
        "        agent_distance_allocation = math.sqrt(sum((agent_positions[0, :, i, num_it] - agent_positions[0, :, j, num_it])**2)) + 1e-8  # Distance between agents\n",
        "        agent_distance_strategy = math.sqrt(sum((agent_positions[1, :, i, num_it] - agent_positions[1, :, j, num_it])**2)) + 1e-8 # Distance between agents\n",
        "        force_allocation = G_allocation[num_it] * (agent_normalized_masses[i, num_it] * agent_normalized_masses[j, num_it]) / agent_distance_allocation # Gravitational force magnitude\n",
        "        force_strategy =  G_strategy[num_it] * (agent_normalized_masses[i, num_it] * agent_normalized_masses[j, num_it]) / agent_distance_strategy # Gravitational force magnitude\n",
        "        direction_allocation = (agent_positions[0, :, j, num_it] - agent_positions[0, :, i, num_it]) # Direction of force\n",
        "        direction_strategy = (agent_positions[1, :, j, num_it] - agent_positions[1, :, i, num_it]) # Direction of force\n",
        "        gravitational_forces[0, :, i, num_it] = gravitational_forces[0, :, i, num_it] + force_allocation * direction_allocation     # Update total force\n",
        "        gravitational_forces[1, :, i, num_it] = gravitational_forces[1, :, i, num_it] + force_strategy * direction_strategy     # Update total force\n",
        "\n",
        "  # Update velocities and positions\n",
        "  for i in range(swarm_size):\n",
        "    acceleration = gravitational_forces[:, :, i, num_it] / (agent_normalized_masses[i, num_it] + 1e-08)\n",
        "    if num_it < number_of_iterations - 1:\n",
        "      if objective_function_value[i, num_it] < best_availability[num_it]:\n",
        "        agent_velocities[:, :, i, num_it+1] = np.random.uniform(0, 1)*agent_velocities[:, :, i, num_it] + acceleration\n",
        "        agent_positions[:, :, i, num_it+1] = agent_positions[:, :, i, num_it] + agent_velocities[:, :, i, num_it+1]\n",
        "      else:\n",
        "        agent_velocities[:, :, i, num_it+1] = 0\n",
        "        agent_positions[:, :, i, num_it+1] = agent_positions[:, :, i, num_it]\n",
        "\n",
        "  # Apply the boundaries\n",
        "  if num_it < number_of_iterations - 1:\n",
        "    for i in range(swarm_size):\n",
        "      agent_positions[0, :, i, num_it+1] = np.clip(agent_positions[0, :, i, num_it+1], lb, ub)\n",
        "      agent_positions[1, :, i, num_it+1] = np.clip(agent_positions[1, :, i, num_it+1], lb2, ub2)"
      ],
      "metadata": {
        "id": "mnrnkaQTl7kM"
      },
      "execution_count": null,
      "outputs": []
    },
    {
      "cell_type": "code",
      "source": [
        "plt.plot(np.max(objective_function_value, axis=0))\n",
        "plt.xlabel('Number of generation')\n",
        "plt.ylabel('System availability')\n",
        "plt.show()"
      ],
      "metadata": {
        "id": "lgegFPnI8bjT"
      },
      "execution_count": null,
      "outputs": []
    },
    {
      "cell_type": "code",
      "source": [
        "print(agent_positions[:,:,0,99])"
      ],
      "metadata": {
        "id": "Xw2iEkV6PT0m"
      },
      "execution_count": null,
      "outputs": []
    },
    {
      "cell_type": "code",
      "source": [
        "print(n[:,0,99])"
      ],
      "metadata": {
        "id": "_pXxN-11Pbve"
      },
      "execution_count": null,
      "outputs": []
    },
    {
      "cell_type": "code",
      "source": [
        "print(redundancy_strategy[:,0,99])"
      ],
      "metadata": {
        "id": "kDUlxTTMPkP8"
      },
      "execution_count": null,
      "outputs": []
    },
    {
      "cell_type": "code",
      "source": [
        "objective_function_value[0,0]"
      ],
      "metadata": {
        "id": "MG9cN1DvPtGS"
      },
      "execution_count": null,
      "outputs": []
    },
    {
      "cell_type": "code",
      "source": [
        "agent_positions[:,:,0,0]"
      ],
      "metadata": {
        "id": "xdExCTkoQPu4"
      },
      "execution_count": null,
      "outputs": []
    },
    {
      "cell_type": "code",
      "source": [
        "print(agent_distance_allocation)\n",
        "print(agent_distance_strategy)"
      ],
      "metadata": {
        "id": "u8wJ1wTxQ6yi"
      },
      "execution_count": null,
      "outputs": []
    },
    {
      "cell_type": "code",
      "source": [
        "print(gravitational_forces[:,:,0,2])"
      ],
      "metadata": {
        "id": "1k26iiG8Rf4x"
      },
      "execution_count": null,
      "outputs": []
    },
    {
      "cell_type": "code",
      "source": [
        "print(force_allocation)\n",
        "print(force_strategy)"
      ],
      "metadata": {
        "id": "YnqMYxvcSrZF"
      },
      "execution_count": null,
      "outputs": []
    },
    {
      "cell_type": "code",
      "source": [
        "print(acceleration)"
      ],
      "metadata": {
        "id": "X9Rr51f6UW8V"
      },
      "execution_count": null,
      "outputs": []
    },
    {
      "cell_type": "code",
      "source": [
        "print(agent_normalized_masses[0,0])"
      ],
      "metadata": {
        "id": "ziS2xmoeUoUz"
      },
      "execution_count": null,
      "outputs": []
    },
    {
      "cell_type": "code",
      "source": [
        "print(gravitational_forces[:,:,0,0])"
      ],
      "metadata": {
        "id": "YXRLQ4_tVGaV"
      },
      "execution_count": null,
      "outputs": []
    },
    {
      "cell_type": "code",
      "source": [
        "plt.plot(G_allocation)\n",
        "plt.plot(G_strategy)\n",
        "plt.xlabel('Number of generation')\n",
        "plt.ylabel('System availability')\n",
        "plt.show()"
      ],
      "metadata": {
        "id": "w1TOzIQzSG3A"
      },
      "execution_count": null,
      "outputs": []
    }
  ]
}