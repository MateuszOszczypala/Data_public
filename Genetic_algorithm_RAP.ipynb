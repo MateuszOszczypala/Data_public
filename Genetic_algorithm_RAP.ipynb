{
  "cells": [
    {
      "cell_type": "markdown",
      "metadata": {
        "id": "view-in-github",
        "colab_type": "text"
      },
      "source": [
        "<a href=\"https://colab.research.google.com/github/MateuszOszczypala/Data_public/blob/main/Genetic_algorithm_RAP.ipynb\" target=\"_parent\"><img src=\"https://colab.research.google.com/assets/colab-badge.svg\" alt=\"Open In Colab\"/></a>"
      ]
    },
    {
      "cell_type": "code",
      "execution_count": null,
      "metadata": {
        "id": "2ZX8BGi0xkg3"
      },
      "outputs": [],
      "source": [
        "import random\n",
        "import numpy as np\n",
        "import math\n",
        "import matplotlib.pyplot as plt\n",
        "from google.colab import drive\n",
        "from itertools import combinations\n",
        "from scipy.spatial.distance import pdist"
      ]
    },
    {
      "cell_type": "code",
      "execution_count": null,
      "metadata": {
        "id": "7j48ANSQO_e0"
      },
      "outputs": [],
      "source": [
        "# Basic parameters of GA\n",
        "number_of_generations = 10000\n",
        "population_size = 200\n",
        "tournament_size = 5\n",
        "crossover_probability = 0.5\n",
        "mutation_probability = 0.2\n",
        "elitism = 0.04"
      ]
    },
    {
      "cell_type": "code",
      "source": [
        "# Basic parameters of system\n",
        "number_of_subsystems = 10\n",
        "working_failure_rate = [0.8147, 0.9058, 0.1270, 0.9134, 0.6324, 0.0975, 0.2785, 0.5469, 0.9575, 0.9649]\n",
        "standby_failure_rate = [0.0943, 0.1049, 0.0147, 0.1057, 0.0732, 0.0113, 0.0322, 0.0633, 0.1108, 0.1117]\n",
        "repair_rate = [2.9412, 2.9143, 1.9708, 2.6006, 1.2838, 1.8435, 2.8315, 2.5844, 2.9190, 2.3115]\n",
        "warm_standby_switching_rate = [5.3571, 13.4913, 14.3399, 11.7874, 2.5774, 12.4313, 8.9223, 11.5548, 6.7119, 12.0605]\n",
        "cold_standby_switching_rate = [2.6785, 6.7457, 7.1700, 5.8937, 1.2887, 6.2157, 4.4611, 5.7774, 3.3559, 6.0302]\n",
        "k = [3, 3, 1, 1, 2, 2, 1, 1, 3, 3]\n",
        "unit_cost = [5.67, 8.36, 8.57, 4.31, 6.43, 6.12, 7.52, 7.97, 8.28, 4.93]\n",
        "unit_weight = [5.22, 6.94, 5.32, 5.68, 10.76, 9.86, 7.22, 11.65, 5.24, 8.07]"
      ],
      "metadata": {
        "id": "co3HUadsdtNf"
      },
      "execution_count": null,
      "outputs": []
    },
    {
      "cell_type": "code",
      "execution_count": null,
      "metadata": {
        "id": "Ny3V2FmWQneO"
      },
      "outputs": [],
      "source": [
        "# Constraints\n",
        "weight_constraint = 400\n",
        "cost_constraint = 350"
      ]
    },
    {
      "cell_type": "code",
      "source": [
        "def Create_CTMC_model_no_redundancy(n, working_failure_rate, repair_rate): # strategy 0\n",
        "  # Initialize CTMC matrix\n",
        "  CTMC = np.zeros((2, 2))\n",
        "  # State no. 0 is subsystem working state\n",
        "  # State no. 1 is subsystem failure state\n",
        "\n",
        "  # Transition rates\n",
        "  CTMC[0, 1] = n*working_failure_rate # Failure of working component\n",
        "  CTMC[1, 0] = repair_rate # Repair\n",
        "  CTMC[0, 0] = -n*working_failure_rate # diagonal\n",
        "  CTMC[1, 1] = -repair_rate # diagonal\n",
        "  return CTMC"
      ],
      "metadata": {
        "id": "RTL27kUYnzTf"
      },
      "execution_count": null,
      "outputs": []
    },
    {
      "cell_type": "code",
      "source": [
        "def Create_CTMC_model_hot_standby(n, k, working_failure_rate, repair_rate): # strategy 1\n",
        "  State_space = np.empty((n-k+2, 3), dtype=int)\n",
        "  # States no. from 0 to n-k are subsystem working states\n",
        "  # State no. n-k+1 is subsystem failure state\n",
        "\n",
        "  # Working states with k working components and remaining in hot standby or failed\n",
        "  j = 0\n",
        "  for i in range(n-k+1):\n",
        "    State_space[i, 0] = k # number of working components\n",
        "    State_space[i, 1] = n-k-j # number of hot standby components\n",
        "    State_space[i, 2] = j # number of failed components\n",
        "    j += 1\n",
        "  # Failure states with k-1 operational components and n-k+1 failed components\n",
        "    State_space[n-k+1, 0] = k-1 # number of working components\n",
        "    State_space[n-k+1, 1] = 0 # number of hot standby components\n",
        "    State_space[n-k+1, 2] = n-k+1 # number of failed components\n",
        "\n",
        "  # Initialize CTMC matrix\n",
        "  CTMC = np.zeros((n-k+2, n-k+2))\n",
        "\n",
        "  # Transition rates\n",
        "  for i in range(n-k+2):\n",
        "    for j in range(n-k+2):\n",
        "      if State_space[i, 0] - State_space[j, 0] == 1: # Failure of working component\n",
        "        CTMC[i, j] = State_space[i, 0] * working_failure_rate\n",
        "      elif State_space[i, 2] - State_space[j, 2] == 1: # Repair\n",
        "        CTMC[i, j] = State_space[i, 2] * repair_rate\n",
        "\n",
        "    # Diagonal elements\n",
        "  for i in range(n-k+2):\n",
        "    CTMC[i, i] = -np.sum(CTMC[i, :])\n",
        "\n",
        "  return CTMC"
      ],
      "metadata": {
        "id": "F_qXyPuby6bV"
      },
      "execution_count": null,
      "outputs": []
    },
    {
      "cell_type": "code",
      "source": [
        "def Create_CTMC_model_warm_standby(n, k, working_failure_rate, standby_failure_rate, repair_rate, switching_rate): # strategy 2\n",
        "  State_space = np.empty((2*n-2*k+3, 3), dtype=int)\n",
        "  # States no. from 0 to n-k are subsystem working states\n",
        "  # States no. form n-k+1 to 2n-2k+2 are subsystem failure states\n",
        "\n",
        "  # Working states with k working components and remaining in warm standby or failed\n",
        "  j = 0\n",
        "  for i in range(n-k+1):\n",
        "    State_space[i, 0] = k # number of working components\n",
        "    State_space[i, 1] = n-k-j # number of warm standby components\n",
        "    State_space[i, 2] = j # number of failed components\n",
        "    j += 1\n",
        "  # Failure states with k-1 operational components and n-k+1 failed components\n",
        "  j = 0\n",
        "  for i in range(n-k+1, 2*n-2*k+3):\n",
        "    State_space[i, 0] = k-1 # number of working components\n",
        "    State_space[i, 1] = n-k+1-j # number of warm standby components\n",
        "    State_space[i, 2] = j # number of failed components\n",
        "    j += 1\n",
        "\n",
        "  # Initialize CTMC matrix\n",
        "  CTMC = np.zeros((2*n-2*k+3, 2*n-2*k+3))\n",
        "\n",
        "  # Transition rates\n",
        "  for i in range(2*n-2*k+3):\n",
        "    for j in range(2*n-2*k+3):\n",
        "      if State_space[i, 0] - State_space[j, 0] == 1 and State_space[j, 2] - State_space[i, 2] == 1:  # Failure of working component\n",
        "        CTMC[i, j] = State_space[i, 0] * working_failure_rate\n",
        "      elif State_space[i, 1] - State_space[j, 1] == 1 and State_space[j, 2] - State_space[i, 2] == 1:  # Failure of warm standby component\n",
        "        if State_space[i, 0] == k - 1:\n",
        "          # CTMC[i, j] = (State_space[i, 1] + State_space[i, 0]) * standby_failure_rate\n",
        "          CTMC[i, j] = 0 # according to the assumption of non-failing components in subsystem failure state\n",
        "        else:\n",
        "          CTMC[i, j] = State_space[i, 1] * standby_failure_rate\n",
        "      elif State_space[i, 1] - State_space[j, 1] == 1 and State_space[j, 0] - State_space[i, 0] == 1:  # Switch\n",
        "        CTMC[i, j] = switching_rate\n",
        "      elif State_space[i, 2] - State_space[j, 2] == 1 and State_space[j, 1] - State_space[i, 1] == 1:  # Repair\n",
        "        CTMC[i, j] = State_space[i, 2] * repair_rate\n",
        "\n",
        "    # Diagonal elements\n",
        "  for i in range(2*n-2*k+3):\n",
        "    CTMC[i, i] = -np.sum(CTMC[i, :])\n",
        "\n",
        "  return CTMC"
      ],
      "metadata": {
        "id": "JHRzdy7ibH9Y"
      },
      "execution_count": null,
      "outputs": []
    },
    {
      "cell_type": "code",
      "source": [
        "def Create_CTMC_model_cold_standby(n, k, working_failure_rate, repair_rate, switching_rate): # strategy 3\n",
        "  State_space = np.empty((2*n-2*k+3, 3), dtype=int)\n",
        "  # States no. from 0 to n-k are subsystem working states\n",
        "  # States no. form n-k+1 to 2n-2k+2 are subsystem failure states\n",
        "\n",
        "  # Working states with k working components and remaining in cold standby or failed\n",
        "  j = 0\n",
        "  for i in range(n-k+1):\n",
        "    State_space[i, 0] = k # number of working components\n",
        "    State_space[i, 1] = n-k-j # number of cold standby components\n",
        "    State_space[i, 2] = j # number of failed components\n",
        "    j += 1\n",
        "  # Failure states with k-1 operational components and n-k+1 failed components\n",
        "  j = 0\n",
        "  for i in range(n-k+1, 2*n-2*k+3):\n",
        "    State_space[i, 0] = k-1 # number of working components\n",
        "    State_space[i, 1] = n-k+1-j # number of cold standby components\n",
        "    State_space[i, 2] = j # number of failed components\n",
        "    j += 1\n",
        "\n",
        "  # Initialize CTMC matrix\n",
        "  CTMC = np.zeros((2*n-2*k+3, 2*n-2*k+3))\n",
        "\n",
        "  # Transition rates\n",
        "  for i in range(2*n-2*k+3):\n",
        "    for j in range(2*n-2*k+3):\n",
        "      if State_space[i, 0] - State_space[j, 0] == 1 and State_space[j, 2] - State_space[i, 2] == 1:  # Failure of working component\n",
        "        CTMC[i, j] = State_space[i, 0] * working_failure_rate\n",
        "      elif State_space[i, 1] - State_space[j, 1] == 1 and State_space[j, 0] - State_space[i, 0] == 1:  # Switch\n",
        "        CTMC[i, j] = switching_rate\n",
        "      elif State_space[i, 2] - State_space[j, 2] == 1 and State_space[j, 1] - State_space[i, 1] == 1:  # Repair\n",
        "        CTMC[i, j] = State_space[i, 2] * repair_rate\n",
        "\n",
        "    # Diagonal elements\n",
        "  for i in range(2*n-2*k+3):\n",
        "    CTMC[i, i] = -np.sum(CTMC[i, :])\n",
        "\n",
        "  return CTMC"
      ],
      "metadata": {
        "id": "XhG5UiI23955"
      },
      "execution_count": null,
      "outputs": []
    },
    {
      "cell_type": "code",
      "execution_count": null,
      "metadata": {
        "id": "QABnPL9EiFYl"
      },
      "outputs": [],
      "source": [
        "def Create_CTMC_model_mixed_strategy_active_warm(n, k, working_failure_rate, standby_failure_rate, repair_rate, switching_rate): # strategy 4\n",
        "  State_space = np.empty((3*n-3*k+3, 3), dtype=int)\n",
        "\n",
        "  j = 0\n",
        "  # Working states with k+1 active components\n",
        "  for i in range(n-k):\n",
        "    State_space[i, 0] = k+1 # number of working components\n",
        "    State_space[i, 1] = n-k-1-j # number of hot standby components\n",
        "    State_space[i, 2] = j # number of failed components\n",
        "    j += 1\n",
        "  j = 0\n",
        "  # Working states with k active components\n",
        "  for i in range(n-k, 2*n-2*k+1):\n",
        "    State_space[i, 0] = k # number of working components\n",
        "    State_space[i, 1] = n-k-j # number of hot standby components\n",
        "    State_space[i, 2] = j # number of failed components\n",
        "    j += 1\n",
        "\n",
        "  j = 0\n",
        "    # Failed states with k-1 active components\n",
        "  for i in range(2*n-2*k+1, 3*n-3*k+3):\n",
        "    State_space[i, 0] = k-1 # number of working components\n",
        "    State_space[i, 1] = n-k+1-j # number of hot standby components\n",
        "    State_space[i, 2] = j # number of failed components\n",
        "    j += 1\n",
        "\n",
        "  # Initialize CTMC matrix\n",
        "  CTMC = np.zeros((3*n-3*k+3, 3*n-3*k+3))\n",
        "\n",
        "  # Transition rates\n",
        "  for i in range(3*n-3*k+3):\n",
        "    for j in range(3*n-3*k+3):\n",
        "      if State_space[i, 0] - State_space[j, 0] == 1 and State_space[j, 2] - State_space[i, 2] == 1:  # Failure of active component\n",
        "        CTMC[i, j] = State_space[i, 0] * working_failure_rate\n",
        "      elif State_space[i, 1] - State_space[j, 1] == 1 and State_space[j, 2] - State_space[i, 2] == 1:  # Failure of warm standby component\n",
        "        if State_space[i, 0] == k - 1:\n",
        "          # CTMC[i, j] = (State_space[i, 1] + State_space[i, 0]) * standby_failure_rate\n",
        "          CTMC[i, j] = 0 # according to the assumption of non-failing components in subsystem failure state\n",
        "        else:\n",
        "          CTMC[i, j] = State_space[i, 1] * standby_failure_rate\n",
        "      elif State_space[i, 1] - State_space[j, 1] == 1 and State_space[j, 0] - State_space[i, 0] == 1:  # Switch\n",
        "        CTMC[i, j] = (min(min(State_space[i, 1], 2), k + 1 - State_space[i, 0])) * switching_rate\n",
        "      elif State_space[i, 2] - State_space[j, 2] == 1 and State_space[j, 1] - State_space[i, 1] == 1:  # Repair\n",
        "        CTMC[i, j] = State_space[i, 2] * repair_rate\n",
        "\n",
        "    # Diagonal elements\n",
        "  for i in range(3*n-3*k+3):\n",
        "    CTMC[i, i] = -np.sum(CTMC[i, :])\n",
        "\n",
        "  return CTMC"
      ]
    },
    {
      "cell_type": "code",
      "source": [
        "def Create_CTMC_model_mixed_strategy_active_cold(n, k, working_failure_rate, repair_rate, switching_rate): # strategy 5\n",
        "  State_space = np.empty((3*n-3*k+3, 3), dtype=int)\n",
        "\n",
        "  j = 0\n",
        "  # Working states with k+1 active components\n",
        "  for i in range(n-k):\n",
        "    State_space[i, 0] = k+1 # number of working components\n",
        "    State_space[i, 1] = n-k-1-j # number of hot standby components\n",
        "    State_space[i, 2] = j # number of failed components\n",
        "    j += 1\n",
        "  j = 0\n",
        "  # Working states with k active components\n",
        "  for i in range(n-k, 2*n-2*k+1):\n",
        "    State_space[i, 0] = k # number of working components\n",
        "    State_space[i, 1] = n-k-j # number of hot standby components\n",
        "    State_space[i, 2] = j # number of failed components\n",
        "    j += 1\n",
        "\n",
        "  j = 0\n",
        "    # Failed states with k-1 active components\n",
        "  for i in range(2*n-2*k+1, 3*n-3*k+3):\n",
        "    State_space[i, 0] = k-1 # number of working components\n",
        "    State_space[i, 1] = n-k+1-j # number of hot standby components\n",
        "    State_space[i, 2] = j # number of failed components\n",
        "    j += 1\n",
        "\n",
        "  # Initialize CTMC matrix\n",
        "  CTMC = np.zeros((3*n-3*k+3, 3*n-3*k+3))\n",
        "\n",
        "  # Transition rates\n",
        "  for i in range(3*n-3*k+3):\n",
        "    for j in range(3*n-3*k+3):\n",
        "      if State_space[i, 0] - State_space[j, 0] == 1 and State_space[j, 2] - State_space[i, 2] == 1:  # Failure of active component\n",
        "        CTMC[i, j] = State_space[i, 0] * working_failure_rate\n",
        "      elif State_space[i, 1] - State_space[j, 1] == 1 and State_space[j, 0] - State_space[i, 0] == 1:  # Switch\n",
        "        CTMC[i, j] = (min(min(State_space[i, 1], 2), k + 1 - State_space[i, 0])) * switching_rate\n",
        "      elif State_space[i, 2] - State_space[j, 2] == 1 and State_space[j, 1] - State_space[i, 1] == 1:  # Repair\n",
        "        CTMC[i, j] = State_space[i, 2] * repair_rate\n",
        "\n",
        "    # Diagonal elements\n",
        "  for i in range(3*n-3*k+3):\n",
        "    CTMC[i, i] = -np.sum(CTMC[i, :])\n",
        "\n",
        "  return CTMC"
      ],
      "metadata": {
        "id": "g7GWkU05iLrI"
      },
      "execution_count": null,
      "outputs": []
    },
    {
      "cell_type": "code",
      "execution_count": null,
      "metadata": {
        "id": "IROgkpF2LovI"
      },
      "outputs": [],
      "source": [
        "def Ergodic_probabilities(CTMC):\n",
        "  CTMC_transposed = CTMC.T\n",
        "  CTMC_transposed[0, :CTMC_transposed.shape[0]] = 1\n",
        "  P = np.zeros((CTMC_transposed.shape[0], 1))\n",
        "  P[0, 0] = 1\n",
        "  Ergodic_prob = np.linalg.inv(CTMC_transposed) @ P\n",
        "  return Ergodic_prob"
      ]
    },
    {
      "cell_type": "code",
      "execution_count": null,
      "metadata": {
        "id": "8WNdnvMFUchp"
      },
      "outputs": [],
      "source": [
        "def Availability_of_subsystems(n, k, Ergodic_prob, redundancy_strategy):\n",
        "\n",
        "  if redundancy_strategy == 0: # no redundancy\n",
        "    Subsystem_availabilities = np.sum(Ergodic_prob[0:1])\n",
        "\n",
        "  elif redundancy_strategy == 1: # hot standby\n",
        "    Subsystem_availabilities = np.sum(Ergodic_prob[0:n-k+1])\n",
        "\n",
        "  elif redundancy_strategy == 2: # warm standby\n",
        "    Subsystem_availabilities = np.sum(Ergodic_prob[0:n-k+1])\n",
        "\n",
        "  elif redundancy_strategy == 3: # cold standby\n",
        "    Subsystem_availabilities = np.sum(Ergodic_prob[0:n-k+1])\n",
        "\n",
        "  elif redundancy_strategy == 4: # mixed strategy(active + warm)\n",
        "    Subsystem_availabilities = np.sum(Ergodic_prob[0:2*n-2*k+1])\n",
        "\n",
        "  elif redundancy_strategy == 5: # mixed strategy(active + cold)\n",
        "    Subsystem_availabilities = np.sum(Ergodic_prob[0:2*n-2*k+1])\n",
        "\n",
        "  return Subsystem_availabilities"
      ]
    },
    {
      "cell_type": "code",
      "execution_count": null,
      "metadata": {
        "id": "nzgUPdDDxoBg"
      },
      "outputs": [],
      "source": [
        "def objective_function(Subsystem_availabilities):\n",
        "  A = Subsystem_availabilities\n",
        "  U = 1 - A\n",
        "  System_availability = (\n",
        "        A[0]*A[1]*A[2]*A[3]+\n",
        "        A[0]*A[1]*A[5]*A[9]*(U[2]+A[2]*U[3])+\n",
        "        A[0]*A[4]*A[8]*A[9]*(U[1]+A[1]*U[2]*U[5]+A[1]*A[2]*U[3]*U[5])+\n",
        "        A[6]*A[7]*A[8]*A[9]*(U[0]+A[0]*U[1]*U[4]+A[0]*A[1]*U[2]*U[4]*U[5]+A[0]*A[1]*A[2]*U[3]*U[4]*U[5])+\n",
        "        A[1]*A[2]*A[3]*A[4]*A[6]*A[7]*U[0]*(U[8]+A[8]*U[9])+\n",
        "        U[0]*A[2]*A[3]*A[5]*A[6]*A[7]*A[8]*U[9]*(U[1]+A[1]*U[4])+\n",
        "        A[0]*U[1]*A[2]*A[3]*A[5]*A[6]*A[7]*A[8]*A[9]*U[9]+\n",
        "        A[0]*U[1]*A[2]*A[3]*A[4]*A[5]*A[8]*U[9]*(U[6]+A[6]*U[7])+\n",
        "        U[0]*A[1]*A[4]*A[5]*A[6]*A[7]*A[8]*U[8]*A[9]*(U[2]+A[2]*U[3])\n",
        "    )\n",
        "  return System_availability"
      ]
    },
    {
      "cell_type": "code",
      "execution_count": null,
      "metadata": {
        "id": "iXYDzBeJx2Mn"
      },
      "outputs": [],
      "source": [
        "def tournament_selection(population, objective_function_value, tournament_size, population_size, elitism):\n",
        "  parent = []\n",
        "  individual_index = np.zeros(tournament_size, dtype=int)\n",
        "  for j in range(tournament_size):\n",
        "    individual_index[j] = np.random.randint(0, population_size)\n",
        "  parent_objective_value = max(objective_function_value[individual_index])\n",
        "  for j in range(tournament_size):\n",
        "    if objective_function_value[individual_index[j]] == parent_objective_value:\n",
        "      parent = (population[:,:,individual_index[j]]) # tournament winner\n",
        "  return parent"
      ]
    },
    {
      "cell_type": "code",
      "source": [
        "def single_point_crossover(parent1, parent2):\n",
        "  point = random.randint(1, parent1.shape[0]-1)\n",
        "\n",
        "  offspring1 = np.empty((8, number_of_subsystems, 1, 1), dtype=int)\n",
        "  offspring2 = np.empty((8, number_of_subsystems, 1, 1), dtype=int)\n",
        "  offspring1 = parent1.copy()\n",
        "  offspring2 = parent2.copy()\n",
        "  offspring1[:point, :] = parent2[:point, :]\n",
        "  offspring2[:point, :] = parent1[:point, :]\n",
        "  offspring1 = np.clip(offspring1, 0, 1)\n",
        "  offspring2 = np.clip(offspring2, 0, 1)\n",
        "  return offspring1, offspring2"
      ],
      "metadata": {
        "id": "YuJ0NNXn6SnJ"
      },
      "execution_count": null,
      "outputs": []
    },
    {
      "cell_type": "code",
      "execution_count": null,
      "metadata": {
        "id": "BfBbREHWy7fZ"
      },
      "outputs": [],
      "source": [
        "def two_point_crossover(parent1, parent2):\n",
        "  point1 = random.randint(1, parent1.shape[0]-2)\n",
        "  point2 = random.randint(point1+1, parent1.shape[0]-1)\n",
        "  offspring1 = np.empty((8, number_of_subsystems, 1, 1), dtype=int)\n",
        "  offspring2 = np.empty((8, number_of_subsystems, 1, 1), dtype=int)\n",
        "  offspring1 = parent1.copy()\n",
        "  offspring2 = parent2.copy()\n",
        "  offspring1[point1:point2, :] = parent2[point1:point2, :]\n",
        "  offspring2[point1:point2, :] = parent1[point1:point2, :]\n",
        "  offspring1 = np.clip(offspring1, 0, 1)\n",
        "  offspring2 = np.clip(offspring2, 0, 1)\n",
        "  return offspring1, offspring2"
      ]
    },
    {
      "cell_type": "code",
      "execution_count": null,
      "metadata": {
        "id": "_WrFxGeJzWRP"
      },
      "outputs": [],
      "source": [
        "def mutation(offspring, mutation_probability):\n",
        "  mutated_offspring = np.empty((offspring.shape[0], offspring.shape[1], 1, 1), dtype=int)\n",
        "  for j in range(offspring.shape[1]):\n",
        "    for i in range(offspring.shape[0]):\n",
        "      if random.random() < mutation_probability:\n",
        "        mutated_offspring[i,j,0,0] = 1 - offspring[i,j]\n",
        "      else:\n",
        "        mutated_offspring[i,j,0,0] = offspring[i,j]\n",
        "  mutated_offspring = np.clip(mutated_offspring, 0, 1)\n",
        "  return mutated_offspring[:,:,0,0]\n",
        "  return mutated_offspring[:,:,0,0]"
      ]
    },
    {
      "cell_type": "code",
      "execution_count": null,
      "metadata": {
        "id": "ILSHVPGqWB2N"
      },
      "outputs": [],
      "source": [
        "def decode_chromosomes(chromosomes):\n",
        "  priority = np.empty((chromosomes.shape[1]), dtype=int)\n",
        "  for i in range(chromosomes.shape[1]):\n",
        "    bits = chromosomes[:chromosomes.shape[0], i]\n",
        "    bits = np.clip(bits, 0, 1)  # Clip values to 0 or 1\n",
        "    # Convert the bits to a string, then convert the binary string to a decimal integer.\n",
        "    priority[i] = int(''.join(map(str, bits)), 2)\n",
        "  return priority"
      ]
    },
    {
      "cell_type": "code",
      "source": [
        "def component_allocation(redundancy_strategy, priority, weight_available, unit_weight, cost_available, unit_cost):\n",
        "  a = np.zeros(priority.shape[0])\n",
        "  for i in range(priority.shape[0]):\n",
        "    a[i] = priority[i]/255\n",
        "  standby_components = np.zeros(priority.shape[0], dtype=int)\n",
        "\n",
        "  for i in range(priority.shape[0]):\n",
        "    if redundancy_strategy[i] == 0: # no redundancy\n",
        "      standby_components[i] = 0\n",
        "    else:\n",
        "      standby_components[i] = round(a[i] * min(round(weight_available/unit_weight[i]),round(cost_available/unit_cost[i])))\n",
        "  return standby_components"
      ],
      "metadata": {
        "id": "I18fSyJr9V3N"
      },
      "execution_count": null,
      "outputs": []
    },
    {
      "cell_type": "code",
      "source": [
        "def identify_redundacy_strategy(strategy_bits):\n",
        "  redundancy_strategy = []\n",
        "  if np.array_equal(strategy_bits, [0, 0, 0]):\n",
        "    redundancy_strategy = 0 # no redundancy\n",
        "  elif np.array_equal(strategy_bits, [1, 0, 0]):\n",
        "    redundancy_strategy = 1 #hot standby\n",
        "  elif np.array_equal(strategy_bits, [0, 1, 0]):\n",
        "    redundancy_strategy = 2 #warm standby\n",
        "  elif np.array_equal(strategy_bits, [0, 0, 1]):\n",
        "    redundancy_strategy = 3 #cold standby\n",
        "  elif np.array_equal(strategy_bits, [1, 1, 0]):\n",
        "    redundancy_strategy = 4 #mixed 1 active + warm standby\n",
        "  elif np.array_equal(strategy_bits, [1, 0, 1]):\n",
        "    redundancy_strategy = 5 #mixed 1 active + cold standby\n",
        "\n",
        "  return redundancy_strategy"
      ],
      "metadata": {
        "id": "Tb3K8ZbPyKSJ"
      },
      "execution_count": null,
      "outputs": []
    },
    {
      "cell_type": "code",
      "execution_count": null,
      "metadata": {
        "id": "kacRSeNKNQuV"
      },
      "outputs": [],
      "source": [
        "# Initialization\n",
        "def initialization(number_of_subsystems, population_size):\n",
        "  initial_population = np.random.randint(2, size=(11, number_of_subsystems, population_size))\n",
        "  initial_population = np.clip(initial_population, 0, 1)\n",
        "\n",
        "# Initialization\n",
        "def initialization(number_of_subsystems, population_size):\n",
        "  initial_population = np.random.randint(2, size=(11, number_of_subsystems, population_size))\n",
        "  initial_population = np.clip(initial_population, 0, 1)\n",
        "\n",
        "  # check if the redundancy strategy bits encode a feasible redundacy strategy\n",
        "  for i in range(population_size):\n",
        "    for j in range(number_of_subsystems):\n",
        "      while (initial_population[9, j, i] == 1) and (initial_population[10, j, i] == 1):\n",
        "        initial_population[8:11, j, i] = np.random.randint(2, size=3)\n",
        "\n",
        "  return initial_population\n",
        "\n",
        "  return initial_population"
      ]
    },
    {
      "cell_type": "code",
      "execution_count": null,
      "metadata": {
        "id": "_kOWO7UYOuh9"
      },
      "outputs": [],
      "source": [
        "# Genetic algorithm\n",
        "population = np.empty((11, number_of_subsystems, population_size, number_of_generations), dtype=int)\n",
        "population[:,:,:,0] = initialization(number_of_subsystems, population_size)\n",
        "elitist_population = np.empty((11, number_of_subsystems, round(population_size*elitism), number_of_generations), dtype=int)\n",
        "parents = np.empty((11, number_of_subsystems, population_size-round(population_size*elitism), number_of_generations), dtype=int)\n",
        "offsprings = np.empty((11, number_of_subsystems, population_size-round(population_size*elitism), number_of_generations), dtype=int)\n",
        "objective_function_value = np.full((population_size, number_of_generations), np.nan)\n",
        "n = np.full((number_of_subsystems, population_size, number_of_generations), np.nan)\n",
        "redundancy_strategy = np.full((number_of_subsystems, population_size, number_of_generations), np.nan)\n",
        "priorities = np.full((number_of_subsystems, population_size, number_of_generations), np.nan)\n",
        "\n",
        "available_weight = 0\n",
        "for i in range(number_of_subsystems):\n",
        "  available_weight += k[i]*unit_weight[i]\n",
        "\n",
        "\n",
        "available_cost = 0\n",
        "for i in range(number_of_subsystems):\n",
        "  available_cost += k[i]*unit_cost[i]\n",
        "\n",
        "\n",
        "for num_it in range(number_of_generations):\n",
        "  for num_individual in range(population_size):\n",
        "\n",
        "    # decode chromosomes of population into priorities of subsystems\n",
        "    priority = decode_chromosomes(population[0:7,:,num_individual,num_it])\n",
        "    priorities[:,num_individual, num_it] = priority\n",
        "\n",
        "    # identify the redundancy strategy\n",
        "    for i in range(number_of_subsystems):\n",
        "      strategy_bits = population[8:11, i, num_individual, num_it]\n",
        "      redundancy_strategy[i, num_individual, num_it] = identify_redundacy_strategy(strategy_bits)\n",
        "\n",
        "    # allocate standby components to subsystems\n",
        "    standby_components = component_allocation(redundancy_strategy[:, num_individual, num_it], priority, available_weight, unit_weight, available_cost, unit_cost)\n",
        "    n_components = np.zeros(number_of_subsystems, dtype=int)\n",
        "    for i in range(number_of_subsystems):\n",
        "      n[i, num_individual, num_it] = k[i] + int(standby_components[i])\n",
        "      n_components[i] = k[i] + int(standby_components[i])\n",
        "\n",
        "    # calculate subsystem availabilities\n",
        "    Subsystem_availabilities = np.full((number_of_subsystems), np.nan)\n",
        "\n",
        "    for num_subsystem in range(number_of_subsystems):\n",
        "      if redundancy_strategy[num_subsystem, num_individual, num_it] == 0:\n",
        "        CTMC = Create_CTMC_model_no_redundancy(n_components[num_subsystem], working_failure_rate[num_subsystem], repair_rate[num_subsystem])\n",
        "\n",
        "      elif redundancy_strategy[num_subsystem, num_individual, num_it] == 1:\n",
        "        CTMC = Create_CTMC_model_hot_standby(n_components[num_subsystem], k[num_subsystem], working_failure_rate[num_subsystem], repair_rate[num_subsystem])\n",
        "\n",
        "      elif redundancy_strategy[num_subsystem, num_individual, num_it] == 2:\n",
        "        CTMC = Create_CTMC_model_warm_standby(n_components[num_subsystem], k[num_subsystem], working_failure_rate[num_subsystem], standby_failure_rate[num_subsystem], repair_rate[num_subsystem], warm_standby_switching_rate[num_subsystem])\n",
        "\n",
        "      elif redundancy_strategy[num_subsystem, num_individual, num_it] == 3:\n",
        "        CTMC = Create_CTMC_model_cold_standby(n_components[num_subsystem], k[num_subsystem], working_failure_rate[num_subsystem], repair_rate[num_subsystem], cold_standby_switching_rate[num_subsystem])\n",
        "\n",
        "      elif redundancy_strategy[num_subsystem, num_individual, num_it] == 4:\n",
        "        CTMC = Create_CTMC_model_mixed_strategy_active_warm(n_components[num_subsystem], k[num_subsystem], working_failure_rate[num_subsystem], standby_failure_rate[num_subsystem], repair_rate[num_subsystem], warm_standby_switching_rate[num_subsystem])\n",
        "\n",
        "      elif redundancy_strategy[num_subsystem, num_individual, num_it] == 5:\n",
        "        CTMC = Create_CTMC_model_mixed_strategy_active_cold(n_components[num_subsystem], k[num_subsystem], working_failure_rate[num_subsystem], repair_rate[num_subsystem], cold_standby_switching_rate[num_subsystem])\n",
        "\n",
        "      Ergodic_prob = Ergodic_probabilities(CTMC)\n",
        "      Subsystem_availabilities[num_subsystem] = Availability_of_subsystems(n_components[num_subsystem], k[num_subsystem], Ergodic_prob, redundancy_strategy[num_subsystem, num_individual, num_it])\n",
        "\n",
        "      del CTMC, Ergodic_prob\n",
        "\n",
        "    # objective value (system availability) calculation\n",
        "    if np.sum(n[:, num_individual, num_it]*unit_cost) > cost_constraint or np.sum(n[:, num_individual, num_it]*unit_weight) > weight_constraint:\n",
        "      num_components = np.full((number_of_subsystems), np.nan)\n",
        "      for i in range(number_of_subsystems):\n",
        "        num_components[i] = n[i, num_individual, num_it]\n",
        "        system_cost = 0\n",
        "      for i in range(number_of_subsystems):\n",
        "        system_cost = system_cost + num_components[i]*unit_cost[i]\n",
        "        system_weight = 0\n",
        "      for i in range(number_of_subsystems):\n",
        "        system_weight = system_weight + num_components[i]*unit_weight[i]\n",
        "      if system_cost/cost_constraint > system_weight/weight_constraint:\n",
        "        penalty_function = 0.01**(system_cost/cost_constraint)\n",
        "      else:\n",
        "        penalty_function = 0.01**(system_weight/weight_constraint)\n",
        "      objective_function_value[num_individual, num_it] = objective_function(Subsystem_availabilities)*penalty_function\n",
        "    else:\n",
        "      objective_function_value[num_individual, num_it] = objective_function(Subsystem_availabilities)\n",
        "\n",
        "  # elitism\n",
        "  sorted_individuals_indices = np.argsort(objective_function_value[:,num_it])[::-1]\n",
        "  for i in range(round(elitism*population_size)):\n",
        "    for j in range(population_size):\n",
        "      if sorted_individuals_indices[i] == j:\n",
        "        elitist_population[:,:,i,num_it] = population[:,:,j,num_it]\n",
        "  if num_it < number_of_generations - 1:\n",
        "    for i in range(round(elitism*population_size)):\n",
        "      population[:,:,i, num_it+1] = elitist_population[:,:,i,num_it]\n",
        "\n",
        "  # selection\n",
        "  for i in range(round(population_size-elitism*population_size)):\n",
        "    parents[:,:,i,num_it] = tournament_selection(population[:, :, :, num_it], objective_function_value[:, num_it], tournament_size, population_size, elitism)\n",
        "\n",
        "  # crossover for parents to create offsprings\n",
        "  if num_it < number_of_generations - 1:\n",
        "    for i in range(0, parents.shape[2]-1, 2):\n",
        "      if random.random() < crossover_probability:\n",
        "        offspring1, offspring2 = single_point_crossover(parents[:,:,i,num_it], parents[:,:,i+1,num_it])\n",
        "      else:\n",
        "        offspring1, offspring2 = two_point_crossover(parents[:,:,i,num_it], parents[:,:,i+1,num_it])\n",
        "\n",
        "      offsprings[:,:,i,num_it] = offspring1[:,:]\n",
        "      offsprings[:,:,i+1,num_it] = offspring2[:,:]\n",
        "    if parents.shape[2] % 2 == 1:\n",
        "      offsprings[:,:,i,num_it] = parents[:,:,i,num_it]\n",
        "\n",
        "  # mutation\n",
        "  adaptive_mutation_probability = mutation_probability*(((number_of_generations-num_it)/number_of_generations)**2)\n",
        "  for i in range(offsprings.shape[2]):\n",
        "    offsprings[:,:,i,num_it] = mutation(offsprings[:,:,i,num_it], adaptive_mutation_probability)\n",
        "\n",
        "  # check if the redundancy strategy bits encode a feasible redundacy strategy\n",
        "  for i in range(offsprings.shape[2]):\n",
        "    for j in range(number_of_subsystems):\n",
        "      while (offsprings[9, j, i, num_it] == 1) and (offsprings[10, j, i, num_it] == 1):\n",
        "        random_redundancy_strategy_bit = np.random.randint(8, 11)\n",
        "        offsprings[random_redundancy_strategy_bit, j, i, num_it] = np.random.randint(0, 2)\n",
        "\n",
        "  # concatenate the elitist individuals and mutated offsprings\n",
        "  if num_it < number_of_generations - 1:\n",
        "    population[:,:,round(elitism*population_size):,num_it+1] = offsprings[:,:,:,num_it]\n"
      ]
    },
    {
      "cell_type": "code",
      "execution_count": null,
      "metadata": {
        "id": "X6tVTuMI-82u"
      },
      "outputs": [],
      "source": [
        "print(np.nanmax(objective_function_value))\n",
        "print(np.unravel_index(np.argmax(objective_function_value), objective_function_value.shape))\n",
        "print(redundancy_strategy[:,0,83])\n",
        "print(n[:,0,83])\n",
        "print(k)"
      ]
    },
    {
      "cell_type": "code",
      "source": [
        "print((objective_function_value[:,99]))"
      ],
      "metadata": {
        "id": "ykaGz4ArAR6Z"
      },
      "execution_count": null,
      "outputs": []
    },
    {
      "cell_type": "code",
      "source": [
        "plt.plot(np.max(objective_function_value, axis=0))\n",
        "plt.xlabel('Number of generation')\n",
        "plt.ylabel('System availability')\n",
        "plt.show()"
      ],
      "metadata": {
        "id": "cS0p5AReaTHR"
      },
      "execution_count": null,
      "outputs": []
    },
    {
      "cell_type": "code",
      "source": [
        "num_subsystems, num_points, num_generations = priorities.shape\n",
        "\n",
        "sum_distances = np.zeros(num_generations)\n",
        "\n",
        "for z in range(num_generations):\n",
        "    total_distance = 0\n",
        "\n",
        "    points = priorities[:, :, z].T  # (y, x) - points in the space\n",
        "\n",
        "    # Distances among points in solution space in each generation\n",
        "    total_distance = np.sum(pdist(points))  # pdist calculates distances between each two points\n",
        "\n",
        "    sum_distances[z] = total_distance\n",
        "\n",
        "plt.plot(sum_distances)\n",
        "plt.xlabel('Number of generation')\n",
        "plt.ylabel('Sum of distances between points')\n",
        "plt.show()"
      ],
      "metadata": {
        "id": "MYYQ4qsWeCH0"
      },
      "execution_count": null,
      "outputs": []
    },
    {
      "cell_type": "code",
      "source": [
        "def hamming_distance(individual1, individual2):\n",
        "    return np.sum(individual1 != individual2)\n",
        "\n",
        "def calculate_total_hamming_distance(population):\n",
        "\n",
        "    total_hamming_distance = 0\n",
        "\n",
        "    for i in range(population_size):\n",
        "        for j in range(i + 1, population_size):\n",
        "            # Hamming distance for each individual pair\n",
        "            total_hamming_distance += np.sum([hamming_distance(population[:,:, i], population[:,:, j])])\n",
        "\n",
        "    return total_hamming_distance\n",
        "\n",
        "total_hamming_distances = []\n",
        "\n",
        "# Sum of Hamming distance for each generation\n",
        "for generation_idx in range(number_of_generations):\n",
        "    total_hamming_distance = calculate_total_hamming_distance(population[:,:,:,generation_idx])\n",
        "    total_hamming_distances.append(total_hamming_distance)\n",
        "\n",
        "average_hamming_distances = np.empty(number_of_generations)\n",
        "for i in range(number_of_generations):\n",
        "    average_hamming_distances[i] = np.array(total_hamming_distances[i]) / (population_size * (population_size - 1) / 2)\n",
        "\n",
        "# Plot\n",
        "import matplotlib.pyplot as plt\n",
        "plt.plot(range(1, number_of_generations + 1), average_hamming_distances, marker='o', markersize=2)\n",
        "plt.xlabel('Generation')\n",
        "plt.ylabel('The average Hamming distance')\n",
        "plt.grid(True)\n",
        "plt.show()"
      ],
      "metadata": {
        "id": "uIzhue4UQGuo"
      },
      "execution_count": null,
      "outputs": []
    }
  ],
  "metadata": {
    "colab": {
      "provenance": [],
      "authorship_tag": "ABX9TyPVw75STL/4LV+rwhC/ERMk",
      "include_colab_link": true
    },
    "kernelspec": {
      "display_name": "Python 3",
      "name": "python3"
    },
    "language_info": {
      "name": "python"
    }
  },
  "nbformat": 4,
  "nbformat_minor": 0
}